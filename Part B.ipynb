{
 "cells": [
  {
   "cell_type": "markdown",
   "metadata": {},
   "source": [
    "# 1. Import Libraries"
   ]
  },
  {
   "cell_type": "code",
   "execution_count": 80,
   "metadata": {},
   "outputs": [],
   "source": [
    "import pandas as pd\n",
    "import numpy as np\n",
    "import matplotlib.pyplot as plt\n",
    "import tensorflow as tf\n",
    "import seaborn as sns\n",
    "import os\n",
    "from googletrans import Translator\n",
    "\n",
    "from tensorflow.keras.layers import Embedding, LSTM, Dense, Dropout, Bidirectional, Conv1D\n",
    "from tensorflow.keras.models import Sequential\n",
    "from tensorflow.keras.preprocessing.text import Tokenizer\n",
    "from tensorflow.keras.preprocessing.sequence import pad_sequences\n",
    "from tensorflow.keras.optimizers import Adam\n",
    "from tensorflow.keras.regularizers import l2\n",
    "from tensorflow.keras.models import load_model\n",
    "from keras.utils.vis_utils import plot_model\n",
    "\n",
    "from sklearn.model_selection import train_test_split\n",
    "from sklearn.utils.class_weight import compute_class_weight\n",
    "from sklearn.metrics import confusion_matrix, classification_report"
   ]
  },
  {
   "cell_type": "code",
   "execution_count": 81,
   "metadata": {},
   "outputs": [],
   "source": [
    "# restrict tf from using all available memory on gpu\n",
    "gpus = tf.config.experimental.list_physical_devices('GPU')\n",
    "for gpu in gpus:\n",
    "    tf.config.experimental.set_memory_growth(gpu, True)"
   ]
  },
  {
   "cell_type": "code",
   "execution_count": 82,
   "metadata": {},
   "outputs": [],
   "source": [
    "# set random seed for reproducibility\n",
    "np.random.seed(1)"
   ]
  },
  {
   "cell_type": "markdown",
   "metadata": {},
   "source": [
    "# 2. Load Datasets"
   ]
  },
  {
   "cell_type": "code",
   "execution_count": 83,
   "metadata": {},
   "outputs": [],
   "source": [
    "# change current working directory\n",
    "path = r'D:\\SP\\Year 2 Sem 1\\ST1504 Deep Learning\\CA1\\Part B'\n",
    "os.chdir(path)"
   ]
  },
  {
   "cell_type": "code",
   "execution_count": 84,
   "metadata": {},
   "outputs": [
    {
     "data": {
      "text/html": [
       "<div>\n",
       "<style scoped>\n",
       "    .dataframe tbody tr th:only-of-type {\n",
       "        vertical-align: middle;\n",
       "    }\n",
       "\n",
       "    .dataframe tbody tr th {\n",
       "        vertical-align: top;\n",
       "    }\n",
       "\n",
       "    .dataframe thead th {\n",
       "        text-align: right;\n",
       "    }\n",
       "</style>\n",
       "<table border=\"1\" class=\"dataframe\">\n",
       "  <thead>\n",
       "    <tr style=\"text-align: right;\">\n",
       "      <th></th>\n",
       "      <th>Review</th>\n",
       "      <th>Score</th>\n",
       "      <th>Are there ways for you to generate more data? Spliting up sentences, would that help?</th>\n",
       "      <th>Language</th>\n",
       "    </tr>\n",
       "  </thead>\n",
       "  <tbody>\n",
       "    <tr>\n",
       "      <th>0</th>\n",
       "      <td>Filem ini hebat! Aksi yang mendebarkan dan plo...</td>\n",
       "      <td>0.1</td>\n",
       "      <td>NaN</td>\n",
       "      <td>Malay</td>\n",
       "    </tr>\n",
       "    <tr>\n",
       "      <th>1</th>\n",
       "      <td>Filem ini hebat! Aksi yang mendebarkan dan plo...</td>\n",
       "      <td>0.9</td>\n",
       "      <td>NaN</td>\n",
       "      <td>Malay</td>\n",
       "    </tr>\n",
       "    <tr>\n",
       "      <th>2</th>\n",
       "      <td>Filem ini hebat! Aksi yang mendebarkan dan plo...</td>\n",
       "      <td>0.5</td>\n",
       "      <td>NaN</td>\n",
       "      <td>Malay</td>\n",
       "    </tr>\n",
       "    <tr>\n",
       "      <th>3</th>\n",
       "      <td>Sayang sekali, pelakon tidak memberikan persem...</td>\n",
       "      <td>0.8</td>\n",
       "      <td>NaN</td>\n",
       "      <td>Malay</td>\n",
       "    </tr>\n",
       "    <tr>\n",
       "      <th>4</th>\n",
       "      <td>Jalan cerita yang kompleks dan penuh emosi. Su...</td>\n",
       "      <td>0.2</td>\n",
       "      <td>NaN</td>\n",
       "      <td>Malay</td>\n",
       "    </tr>\n",
       "    <tr>\n",
       "      <th>...</th>\n",
       "      <td>...</td>\n",
       "      <td>...</td>\n",
       "      <td>...</td>\n",
       "      <td>...</td>\n",
       "    </tr>\n",
       "    <tr>\n",
       "      <th>522</th>\n",
       "      <td>Pening</td>\n",
       "      <td>0.7</td>\n",
       "      <td>NaN</td>\n",
       "      <td>Malay</td>\n",
       "    </tr>\n",
       "    <tr>\n",
       "      <th>523</th>\n",
       "      <td>Berkesan</td>\n",
       "      <td>0.2</td>\n",
       "      <td>NaN</td>\n",
       "      <td>Malay</td>\n",
       "    </tr>\n",
       "    <tr>\n",
       "      <th>524</th>\n",
       "      <td>Mengujakan</td>\n",
       "      <td>0.1</td>\n",
       "      <td>NaN</td>\n",
       "      <td>Malay</td>\n",
       "    </tr>\n",
       "    <tr>\n",
       "      <th>525</th>\n",
       "      <td>Sederhana and teruk</td>\n",
       "      <td>0.6</td>\n",
       "      <td>NaN</td>\n",
       "      <td>Malay</td>\n",
       "    </tr>\n",
       "    <tr>\n",
       "      <th>526</th>\n",
       "      <td>Sempurna</td>\n",
       "      <td>0.1</td>\n",
       "      <td>NaN</td>\n",
       "      <td>Malay</td>\n",
       "    </tr>\n",
       "  </tbody>\n",
       "</table>\n",
       "<p>527 rows × 4 columns</p>\n",
       "</div>"
      ],
      "text/plain": [
       "                                                Review  Score  \\\n",
       "0    Filem ini hebat! Aksi yang mendebarkan dan plo...    0.1   \n",
       "1    Filem ini hebat! Aksi yang mendebarkan dan plo...    0.9   \n",
       "2    Filem ini hebat! Aksi yang mendebarkan dan plo...    0.5   \n",
       "3    Sayang sekali, pelakon tidak memberikan persem...    0.8   \n",
       "4    Jalan cerita yang kompleks dan penuh emosi. Su...    0.2   \n",
       "..                                                 ...    ...   \n",
       "522                                             Pening    0.7   \n",
       "523                                           Berkesan    0.2   \n",
       "524                                         Mengujakan    0.1   \n",
       "525                                Sederhana and teruk    0.6   \n",
       "526                                           Sempurna    0.1   \n",
       "\n",
       "     Are there ways for you to generate more data? Spliting up sentences, would that help?  \\\n",
       "0                                                  NaN                                       \n",
       "1                                                  NaN                                       \n",
       "2                                                  NaN                                       \n",
       "3                                                  NaN                                       \n",
       "4                                                  NaN                                       \n",
       "..                                                 ...                                       \n",
       "522                                                NaN                                       \n",
       "523                                                NaN                                       \n",
       "524                                                NaN                                       \n",
       "525                                                NaN                                       \n",
       "526                                                NaN                                       \n",
       "\n",
       "    Language  \n",
       "0      Malay  \n",
       "1      Malay  \n",
       "2      Malay  \n",
       "3      Malay  \n",
       "4      Malay  \n",
       "..       ...  \n",
       "522    Malay  \n",
       "523    Malay  \n",
       "524    Malay  \n",
       "525    Malay  \n",
       "526    Malay  \n",
       "\n",
       "[527 rows x 4 columns]"
      ]
     },
     "execution_count": 84,
     "metadata": {},
     "output_type": "execute_result"
    }
   ],
   "source": [
    "# load dataset\n",
    "df = pd.read_csv('Movie reviews.csv')\n",
    "df"
   ]
  },
  {
   "cell_type": "code",
   "execution_count": 85,
   "metadata": {},
   "outputs": [],
   "source": [
    "# remove 3rd column\n",
    "df = df.drop(df.columns[2], axis=1)"
   ]
  },
  {
   "cell_type": "markdown",
   "metadata": {},
   "source": [
    "# 3. Exploratory Data Analysis & Data Preprocessing"
   ]
  },
  {
   "cell_type": "markdown",
   "metadata": {},
   "source": [
    "Before we start building the model, we can either do classification or regression. I have chosen classification (either positively sentimented or negatively sentimented) rather than regression (predicting the score) as the model will only have to predict two classes rather than a continuous value which may improve the model's performance"
   ]
  },
  {
   "cell_type": "markdown",
   "metadata": {},
   "source": [
    "## A. Language"
   ]
  },
  {
   "cell_type": "markdown",
   "metadata": {},
   "source": [
    "### i. Visualisation"
   ]
  },
  {
   "cell_type": "code",
   "execution_count": 86,
   "metadata": {},
   "outputs": [
    {
     "data": {
      "text/plain": [
       "array(['Malay', 'English', 'Chinese', 'Nippon'], dtype=object)"
      ]
     },
     "execution_count": 86,
     "metadata": {},
     "output_type": "execute_result"
    }
   ],
   "source": [
    "# view all the different languages in the dataset\n",
    "df.Language.unique()"
   ]
  },
  {
   "cell_type": "code",
   "execution_count": 87,
   "metadata": {},
   "outputs": [
    {
     "data": {
      "image/png": "[encoded data removed]",
      "text/plain": [
       "<Figure size 800x800 with 1 Axes>"
      ]
     },
     "metadata": {},
     "output_type": "display_data"
    }
   ],
   "source": [
    "review_counts_by_language = {\n",
    "    'Malay': len(df[df.Language == 'Malay']),\n",
    "    'Nippon': len(df[df.Language == 'Nippon']),\n",
    "    'English': len(df[df.Language == 'English']),\n",
    "    'Chinese': len(df[df.Language == 'Chinese'])\n",
    "}\n",
    "\n",
    "languages = list(review_counts_by_language.keys())\n",
    "counts = list(review_counts_by_language.values())\n",
    "\n",
    "plt.figure(figsize=(8, 8))\n",
    "plt.pie(counts, labels=languages, autopct='%1.1f%%')  # round to 1 decimal place with percentage sign\n",
    "plt.title('Proportion of Reviews by Language')\n",
    "plt.axis('equal')  # equal aspect ratio ensures that pie is drawn as a circle\n",
    "plt.show()"
   ]
  },
  {
   "cell_type": "code",
   "execution_count": 88,
   "metadata": {},
   "outputs": [
    {
     "name": "stdout",
     "output_type": "stream",
     "text": [
      "Number of reviews in Nippon: 1\n",
      "Number of reviews in Chinese: 2\n"
     ]
    }
   ],
   "source": [
    "print(f'Number of reviews in Nippon: {review_counts_by_language[\"Nippon\"]}')\n",
    "print(f'Number of reviews in Chinese: {review_counts_by_language[\"Chinese\"]}')"
   ]
  },
  {
   "cell_type": "markdown",
   "metadata": {},
   "source": [
    "From the pie chart, we can see that the dataset is imbalanced in the type of languages used. The majority of the dataset is in English, followed by Malay. The other languages (Chinese and Japanese) are not as common in the dataset. Hence we can remove the Chinese and Japanese reviews from the dataset."
   ]
  },
  {
   "cell_type": "markdown",
   "metadata": {},
   "source": [
    "### ii. Drop Chinese and Japanese reviews"
   ]
  },
  {
   "cell_type": "code",
   "execution_count": 89,
   "metadata": {},
   "outputs": [
    {
     "data": {
      "text/plain": [
       "array(['Malay', 'English'], dtype=object)"
      ]
     },
     "execution_count": 89,
     "metadata": {},
     "output_type": "execute_result"
    }
   ],
   "source": [
    "df = df.drop(df[(df.Language == 'Nippon') | (df.Language == 'Chinese')].index)\n",
    "df.Language.unique()"
   ]
  },
  {
   "cell_type": "markdown",
   "metadata": {},
   "source": [
    "At this point, we have 2 options:\n",
    "\n",
    "1. Translate the Malay reviews to English\n",
    "\n",
    "2. Split the dataset into their respective languages and train 2 separate models for each language\n",
    "\n",
    "As having two separate models for each language would be more computationally expensive, we will opt for the first option and translate the Malay reviews to English. Furthermore, if we separate the dataset into their respective languages, we would have a smaller dataset to train on which may not be sufficient to train a model with a good performance"
   ]
  },
  {
   "cell_type": "markdown",
   "metadata": {},
   "source": [
    "### iii. Translate Malay reviews to English"
   ]
  },
  {
   "cell_type": "code",
   "execution_count": 90,
   "metadata": {},
   "outputs": [],
   "source": [
    "def translate_malay_to_english(text):\n",
    "    translator = Translator()\n",
    "    results = translator.translate(text, src='ms', dest='en')  # translate from malay to english\n",
    "\n",
    "    return results.text"
   ]
  },
  {
   "cell_type": "code",
   "execution_count": 91,
   "metadata": {},
   "outputs": [
    {
     "data": {
      "text/html": [
       "<div>\n",
       "<style scoped>\n",
       "    .dataframe tbody tr th:only-of-type {\n",
       "        vertical-align: middle;\n",
       "    }\n",
       "\n",
       "    .dataframe tbody tr th {\n",
       "        vertical-align: top;\n",
       "    }\n",
       "\n",
       "    .dataframe thead th {\n",
       "        text-align: right;\n",
       "    }\n",
       "</style>\n",
       "<table border=\"1\" class=\"dataframe\">\n",
       "  <thead>\n",
       "    <tr style=\"text-align: right;\">\n",
       "      <th></th>\n",
       "      <th>Review</th>\n",
       "      <th>Score</th>\n",
       "    </tr>\n",
       "  </thead>\n",
       "  <tbody>\n",
       "    <tr>\n",
       "      <th>0</th>\n",
       "      <td>This movie is great! Thrilling action and a su...</td>\n",
       "      <td>0.1</td>\n",
       "    </tr>\n",
       "    <tr>\n",
       "      <th>1</th>\n",
       "      <td>This movie is great! Thrilling action and a su...</td>\n",
       "      <td>0.9</td>\n",
       "    </tr>\n",
       "    <tr>\n",
       "      <th>2</th>\n",
       "      <td>This movie is great! Thrilling action and a su...</td>\n",
       "      <td>0.5</td>\n",
       "    </tr>\n",
       "    <tr>\n",
       "      <th>3</th>\n",
       "      <td>Too bad the actors didn't give their best perf...</td>\n",
       "      <td>0.8</td>\n",
       "    </tr>\n",
       "    <tr>\n",
       "      <th>4</th>\n",
       "      <td>A complex and emotional storyline. Really ente...</td>\n",
       "      <td>0.2</td>\n",
       "    </tr>\n",
       "    <tr>\n",
       "      <th>...</th>\n",
       "      <td>...</td>\n",
       "      <td>...</td>\n",
       "    </tr>\n",
       "    <tr>\n",
       "      <th>522</th>\n",
       "      <td>Dizziness</td>\n",
       "      <td>0.7</td>\n",
       "    </tr>\n",
       "    <tr>\n",
       "      <th>523</th>\n",
       "      <td>Effective</td>\n",
       "      <td>0.2</td>\n",
       "    </tr>\n",
       "    <tr>\n",
       "      <th>524</th>\n",
       "      <td>Exciting</td>\n",
       "      <td>0.1</td>\n",
       "    </tr>\n",
       "    <tr>\n",
       "      <th>525</th>\n",
       "      <td>Simple and bad</td>\n",
       "      <td>0.6</td>\n",
       "    </tr>\n",
       "    <tr>\n",
       "      <th>526</th>\n",
       "      <td>Perfect</td>\n",
       "      <td>0.1</td>\n",
       "    </tr>\n",
       "  </tbody>\n",
       "</table>\n",
       "<p>524 rows × 2 columns</p>\n",
       "</div>"
      ],
      "text/plain": [
       "                                                Review  Score\n",
       "0    This movie is great! Thrilling action and a su...    0.1\n",
       "1    This movie is great! Thrilling action and a su...    0.9\n",
       "2    This movie is great! Thrilling action and a su...    0.5\n",
       "3    Too bad the actors didn't give their best perf...    0.8\n",
       "4    A complex and emotional storyline. Really ente...    0.2\n",
       "..                                                 ...    ...\n",
       "522                                          Dizziness    0.7\n",
       "523                                          Effective    0.2\n",
       "524                                           Exciting    0.1\n",
       "525                                     Simple and bad    0.6\n",
       "526                                            Perfect    0.1\n",
       "\n",
       "[524 rows x 2 columns]"
      ]
     },
     "execution_count": 91,
     "metadata": {},
     "output_type": "execute_result"
    }
   ],
   "source": [
    "malay_reviews = df[df.Language == 'Malay']['Review']\n",
    "\n",
    "df.loc[df['Language'] == 'Malay', 'Review'] = malay_reviews.apply(translate_malay_to_english)\n",
    "df = df.drop(columns=['Language'])\n",
    "df"
   ]
  },
  {
   "cell_type": "markdown",
   "metadata": {},
   "source": [
    "## B. Score"
   ]
  },
  {
   "cell_type": "markdown",
   "metadata": {},
   "source": [
    "### i. Score Definition"
   ]
  },
  {
   "cell_type": "code",
   "execution_count": 92,
   "metadata": {},
   "outputs": [
    {
     "data": {
      "text/html": [
       "<div>\n",
       "<style scoped>\n",
       "    .dataframe tbody tr th:only-of-type {\n",
       "        vertical-align: middle;\n",
       "    }\n",
       "\n",
       "    .dataframe tbody tr th {\n",
       "        vertical-align: top;\n",
       "    }\n",
       "\n",
       "    .dataframe thead th {\n",
       "        text-align: right;\n",
       "    }\n",
       "</style>\n",
       "<table border=\"1\" class=\"dataframe\">\n",
       "  <thead>\n",
       "    <tr style=\"text-align: right;\">\n",
       "      <th></th>\n",
       "      <th>Review</th>\n",
       "      <th>Score</th>\n",
       "    </tr>\n",
       "  </thead>\n",
       "  <tbody>\n",
       "    <tr>\n",
       "      <th>0</th>\n",
       "      <td>This movie is great! Thrilling action and a su...</td>\n",
       "      <td>0.10</td>\n",
       "    </tr>\n",
       "    <tr>\n",
       "      <th>1</th>\n",
       "      <td>This movie is great! Thrilling action and a su...</td>\n",
       "      <td>0.90</td>\n",
       "    </tr>\n",
       "    <tr>\n",
       "      <th>2</th>\n",
       "      <td>This movie is great! Thrilling action and a su...</td>\n",
       "      <td>0.50</td>\n",
       "    </tr>\n",
       "    <tr>\n",
       "      <th>3</th>\n",
       "      <td>Too bad the actors didn't give their best perf...</td>\n",
       "      <td>0.80</td>\n",
       "    </tr>\n",
       "    <tr>\n",
       "      <th>4</th>\n",
       "      <td>A complex and emotional storyline. Really ente...</td>\n",
       "      <td>0.20</td>\n",
       "    </tr>\n",
       "    <tr>\n",
       "      <th>5</th>\n",
       "      <td>The filmmakers managed to provide an unforgett...</td>\n",
       "      <td>0.05</td>\n",
       "    </tr>\n",
       "    <tr>\n",
       "      <th>6</th>\n",
       "      <td>Too many action scenes and shocks. Sometimes a...</td>\n",
       "      <td>0.40</td>\n",
       "    </tr>\n",
       "    <tr>\n",
       "      <th>7</th>\n",
       "      <td>I was excited throughout the movie. Interestin...</td>\n",
       "      <td>0.15</td>\n",
       "    </tr>\n",
       "    <tr>\n",
       "      <th>8</th>\n",
       "      <td>Avengers: Endgame is disappointing and boring....</td>\n",
       "      <td>0.85</td>\n",
       "    </tr>\n",
       "    <tr>\n",
       "      <th>9</th>\n",
       "      <td>The integration of science fiction elements is...</td>\n",
       "      <td>0.25</td>\n",
       "    </tr>\n",
       "  </tbody>\n",
       "</table>\n",
       "</div>"
      ],
      "text/plain": [
       "                                              Review  Score\n",
       "0  This movie is great! Thrilling action and a su...   0.10\n",
       "1  This movie is great! Thrilling action and a su...   0.90\n",
       "2  This movie is great! Thrilling action and a su...   0.50\n",
       "3  Too bad the actors didn't give their best perf...   0.80\n",
       "4  A complex and emotional storyline. Really ente...   0.20\n",
       "5  The filmmakers managed to provide an unforgett...   0.05\n",
       "6  Too many action scenes and shocks. Sometimes a...   0.40\n",
       "7  I was excited throughout the movie. Interestin...   0.15\n",
       "8  Avengers: Endgame is disappointing and boring....   0.85\n",
       "9  The integration of science fiction elements is...   0.25"
      ]
     },
     "execution_count": 92,
     "metadata": {},
     "output_type": "execute_result"
    }
   ],
   "source": [
    "df.head(10)"
   ]
  },
  {
   "cell_type": "markdown",
   "metadata": {},
   "source": [
    "If we look at row 7, the review is positive. The score is 0.15 (low)\n",
    "\n",
    "If we look at row 3, the review is negative. The score is 0.80 (high)\n",
    "\n",
    "We can assume that the lower the score, the more positive the review is"
   ]
  },
  {
   "cell_type": "markdown",
   "metadata": {},
   "source": [
    "### ii. Check for missing values"
   ]
  },
  {
   "cell_type": "code",
   "execution_count": 93,
   "metadata": {},
   "outputs": [
    {
     "data": {
      "text/html": [
       "<div>\n",
       "<style scoped>\n",
       "    .dataframe tbody tr th:only-of-type {\n",
       "        vertical-align: middle;\n",
       "    }\n",
       "\n",
       "    .dataframe tbody tr th {\n",
       "        vertical-align: top;\n",
       "    }\n",
       "\n",
       "    .dataframe thead th {\n",
       "        text-align: right;\n",
       "    }\n",
       "</style>\n",
       "<table border=\"1\" class=\"dataframe\">\n",
       "  <thead>\n",
       "    <tr style=\"text-align: right;\">\n",
       "      <th></th>\n",
       "      <th>Review</th>\n",
       "      <th>Score</th>\n",
       "    </tr>\n",
       "  </thead>\n",
       "  <tbody>\n",
       "    <tr>\n",
       "      <th>493</th>\n",
       "      <td>Diabolic</td>\n",
       "      <td>NaN</td>\n",
       "    </tr>\n",
       "  </tbody>\n",
       "</table>\n",
       "</div>"
      ],
      "text/plain": [
       "       Review  Score\n",
       "493  Diabolic    NaN"
      ]
     },
     "execution_count": 93,
     "metadata": {},
     "output_type": "execute_result"
    }
   ],
   "source": [
    "df[df['Score'].isnull() == True]"
   ]
  },
  {
   "cell_type": "markdown",
   "metadata": {},
   "source": [
    "Since there is only 1 review where the score is missing, we can just remove this review from the dataset"
   ]
  },
  {
   "cell_type": "code",
   "execution_count": 94,
   "metadata": {},
   "outputs": [
    {
     "data": {
      "text/html": [
       "<div>\n",
       "<style scoped>\n",
       "    .dataframe tbody tr th:only-of-type {\n",
       "        vertical-align: middle;\n",
       "    }\n",
       "\n",
       "    .dataframe tbody tr th {\n",
       "        vertical-align: top;\n",
       "    }\n",
       "\n",
       "    .dataframe thead th {\n",
       "        text-align: right;\n",
       "    }\n",
       "</style>\n",
       "<table border=\"1\" class=\"dataframe\">\n",
       "  <thead>\n",
       "    <tr style=\"text-align: right;\">\n",
       "      <th></th>\n",
       "      <th>Review</th>\n",
       "      <th>Score</th>\n",
       "    </tr>\n",
       "  </thead>\n",
       "  <tbody>\n",
       "  </tbody>\n",
       "</table>\n",
       "</div>"
      ],
      "text/plain": [
       "Empty DataFrame\n",
       "Columns: [Review, Score]\n",
       "Index: []"
      ]
     },
     "execution_count": 94,
     "metadata": {},
     "output_type": "execute_result"
    }
   ],
   "source": [
    "df = df.drop(493)\n",
    "df[df['Score'].isnull() == True]"
   ]
  },
  {
   "cell_type": "markdown",
   "metadata": {},
   "source": [
    "### iii. Visualize the distribution of the scores"
   ]
  },
  {
   "cell_type": "code",
   "execution_count": 95,
   "metadata": {},
   "outputs": [
    {
     "name": "stdout",
     "output_type": "stream",
     "text": [
      "Min Score: 0.05\n",
      "Max Score: 0.99\n"
     ]
    }
   ],
   "source": [
    "min_score = min(df['Score'])\n",
    "max_score = max(df['Score'])\n",
    "print(f'Min Score: {min_score}')\n",
    "print(f'Max Score: {max_score}')"
   ]
  },
  {
   "cell_type": "code",
   "execution_count": 96,
   "metadata": {},
   "outputs": [
    {
     "data": {
      "image/png": "[encoded data removed]",
      "text/plain": [
       "<Figure size 640x480 with 1 Axes>"
      ]
     },
     "metadata": {},
     "output_type": "display_data"
    }
   ],
   "source": [
    "sns.boxplot(y=df['Score'])\n",
    "plt.title('Box Plot of Scores')\n",
    "plt.ylabel('Value')\n",
    "plt.show()"
   ]
  },
  {
   "cell_type": "markdown",
   "metadata": {},
   "source": [
    "From the boxplot, we can see that the dataset has more positive reviews than negative reviews with a median score of about 0.1. This suggests that the dataset is biased towards positive reviews"
   ]
  },
  {
   "cell_type": "markdown",
   "metadata": {},
   "source": [
    "## C. Reviews"
   ]
  },
  {
   "cell_type": "markdown",
   "metadata": {},
   "source": [
    "### i. Check for duplicates"
   ]
  },
  {
   "cell_type": "markdown",
   "metadata": {},
   "source": [
    "These are rows whereby the review and score and language are all the same. Hence, we can just remove them from the dataset"
   ]
  },
  {
   "cell_type": "code",
   "execution_count": 97,
   "metadata": {},
   "outputs": [
    {
     "data": {
      "text/html": [
       "<div>\n",
       "<style scoped>\n",
       "    .dataframe tbody tr th:only-of-type {\n",
       "        vertical-align: middle;\n",
       "    }\n",
       "\n",
       "    .dataframe tbody tr th {\n",
       "        vertical-align: top;\n",
       "    }\n",
       "\n",
       "    .dataframe thead th {\n",
       "        text-align: right;\n",
       "    }\n",
       "</style>\n",
       "<table border=\"1\" class=\"dataframe\">\n",
       "  <thead>\n",
       "    <tr style=\"text-align: right;\">\n",
       "      <th></th>\n",
       "      <th>Review</th>\n",
       "      <th>Score</th>\n",
       "    </tr>\n",
       "  </thead>\n",
       "  <tbody>\n",
       "    <tr>\n",
       "      <th>68</th>\n",
       "      <td>The lack of character development makes this f...</td>\n",
       "      <td>0.75</td>\n",
       "    </tr>\n",
       "    <tr>\n",
       "      <th>69</th>\n",
       "      <td>I'm excited about how this movie incorporates ...</td>\n",
       "      <td>0.20</td>\n",
       "    </tr>\n",
       "    <tr>\n",
       "      <th>70</th>\n",
       "      <td>Interesting plot and full of surprises. I like...</td>\n",
       "      <td>0.15</td>\n",
       "    </tr>\n",
       "    <tr>\n",
       "      <th>71</th>\n",
       "      <td>This film has great emotional power. Touching!</td>\n",
       "      <td>0.12</td>\n",
       "    </tr>\n",
       "    <tr>\n",
       "      <th>72</th>\n",
       "      <td>The actor gave an unsatisfactory performance. ...</td>\n",
       "      <td>0.75</td>\n",
       "    </tr>\n",
       "    <tr>\n",
       "      <th>...</th>\n",
       "      <td>...</td>\n",
       "      <td>...</td>\n",
       "    </tr>\n",
       "    <tr>\n",
       "      <th>418</th>\n",
       "      <td>Spectacular</td>\n",
       "      <td>0.08</td>\n",
       "    </tr>\n",
       "    <tr>\n",
       "      <th>433</th>\n",
       "      <td>Impressive</td>\n",
       "      <td>0.08</td>\n",
       "    </tr>\n",
       "    <tr>\n",
       "      <th>447</th>\n",
       "      <td>Moving</td>\n",
       "      <td>0.12</td>\n",
       "    </tr>\n",
       "    <tr>\n",
       "      <th>509</th>\n",
       "      <td>Disappointing</td>\n",
       "      <td>0.80</td>\n",
       "    </tr>\n",
       "    <tr>\n",
       "      <th>524</th>\n",
       "      <td>Exciting</td>\n",
       "      <td>0.10</td>\n",
       "    </tr>\n",
       "  </tbody>\n",
       "</table>\n",
       "<p>119 rows × 2 columns</p>\n",
       "</div>"
      ],
      "text/plain": [
       "                                                Review  Score\n",
       "68   The lack of character development makes this f...   0.75\n",
       "69   I'm excited about how this movie incorporates ...   0.20\n",
       "70   Interesting plot and full of surprises. I like...   0.15\n",
       "71      This film has great emotional power. Touching!   0.12\n",
       "72   The actor gave an unsatisfactory performance. ...   0.75\n",
       "..                                                 ...    ...\n",
       "418                                        Spectacular   0.08\n",
       "433                                         Impressive   0.08\n",
       "447                                             Moving   0.12\n",
       "509                                      Disappointing   0.80\n",
       "524                                           Exciting   0.10\n",
       "\n",
       "[119 rows x 2 columns]"
      ]
     },
     "execution_count": 97,
     "metadata": {},
     "output_type": "execute_result"
    }
   ],
   "source": [
    "df[df.duplicated()]"
   ]
  },
  {
   "cell_type": "code",
   "execution_count": 98,
   "metadata": {},
   "outputs": [
    {
     "data": {
      "text/html": [
       "<div>\n",
       "<style scoped>\n",
       "    .dataframe tbody tr th:only-of-type {\n",
       "        vertical-align: middle;\n",
       "    }\n",
       "\n",
       "    .dataframe tbody tr th {\n",
       "        vertical-align: top;\n",
       "    }\n",
       "\n",
       "    .dataframe thead th {\n",
       "        text-align: right;\n",
       "    }\n",
       "</style>\n",
       "<table border=\"1\" class=\"dataframe\">\n",
       "  <thead>\n",
       "    <tr style=\"text-align: right;\">\n",
       "      <th></th>\n",
       "      <th>Review</th>\n",
       "      <th>Score</th>\n",
       "    </tr>\n",
       "  </thead>\n",
       "  <tbody>\n",
       "  </tbody>\n",
       "</table>\n",
       "</div>"
      ],
      "text/plain": [
       "Empty DataFrame\n",
       "Columns: [Review, Score]\n",
       "Index: []"
      ]
     },
     "execution_count": 98,
     "metadata": {},
     "output_type": "execute_result"
    }
   ],
   "source": [
    "df = df.drop_duplicates()\n",
    "df[df.duplicated()]"
   ]
  },
  {
   "cell_type": "code",
   "execution_count": 99,
   "metadata": {},
   "outputs": [
    {
     "data": {
      "text/html": [
       "<div>\n",
       "<style scoped>\n",
       "    .dataframe tbody tr th:only-of-type {\n",
       "        vertical-align: middle;\n",
       "    }\n",
       "\n",
       "    .dataframe tbody tr th {\n",
       "        vertical-align: top;\n",
       "    }\n",
       "\n",
       "    .dataframe thead th {\n",
       "        text-align: right;\n",
       "    }\n",
       "</style>\n",
       "<table border=\"1\" class=\"dataframe\">\n",
       "  <thead>\n",
       "    <tr style=\"text-align: right;\">\n",
       "      <th></th>\n",
       "      <th>Review</th>\n",
       "      <th>Score</th>\n",
       "    </tr>\n",
       "  </thead>\n",
       "  <tbody>\n",
       "    <tr>\n",
       "      <th>0</th>\n",
       "      <td>This movie is great! Thrilling action and a su...</td>\n",
       "      <td>0.1</td>\n",
       "    </tr>\n",
       "    <tr>\n",
       "      <th>1</th>\n",
       "      <td>This movie is great! Thrilling action and a su...</td>\n",
       "      <td>0.9</td>\n",
       "    </tr>\n",
       "    <tr>\n",
       "      <th>2</th>\n",
       "      <td>This movie is great! Thrilling action and a su...</td>\n",
       "      <td>0.5</td>\n",
       "    </tr>\n",
       "    <tr>\n",
       "      <th>3</th>\n",
       "      <td>Too bad the actors didn't give their best perf...</td>\n",
       "      <td>0.8</td>\n",
       "    </tr>\n",
       "    <tr>\n",
       "      <th>4</th>\n",
       "      <td>A complex and emotional storyline. Really ente...</td>\n",
       "      <td>0.2</td>\n",
       "    </tr>\n",
       "    <tr>\n",
       "      <th>...</th>\n",
       "      <td>...</td>\n",
       "      <td>...</td>\n",
       "    </tr>\n",
       "    <tr>\n",
       "      <th>399</th>\n",
       "      <td>Captivating</td>\n",
       "      <td>0.2</td>\n",
       "    </tr>\n",
       "    <tr>\n",
       "      <th>400</th>\n",
       "      <td>Dizziness</td>\n",
       "      <td>0.7</td>\n",
       "    </tr>\n",
       "    <tr>\n",
       "      <th>401</th>\n",
       "      <td>Effective</td>\n",
       "      <td>0.2</td>\n",
       "    </tr>\n",
       "    <tr>\n",
       "      <th>402</th>\n",
       "      <td>Simple and bad</td>\n",
       "      <td>0.6</td>\n",
       "    </tr>\n",
       "    <tr>\n",
       "      <th>403</th>\n",
       "      <td>Perfect</td>\n",
       "      <td>0.1</td>\n",
       "    </tr>\n",
       "  </tbody>\n",
       "</table>\n",
       "<p>404 rows × 2 columns</p>\n",
       "</div>"
      ],
      "text/plain": [
       "                                                Review  Score\n",
       "0    This movie is great! Thrilling action and a su...    0.1\n",
       "1    This movie is great! Thrilling action and a su...    0.9\n",
       "2    This movie is great! Thrilling action and a su...    0.5\n",
       "3    Too bad the actors didn't give their best perf...    0.8\n",
       "4    A complex and emotional storyline. Really ente...    0.2\n",
       "..                                                 ...    ...\n",
       "399                                        Captivating    0.2\n",
       "400                                          Dizziness    0.7\n",
       "401                                          Effective    0.2\n",
       "402                                     Simple and bad    0.6\n",
       "403                                            Perfect    0.1\n",
       "\n",
       "[404 rows x 2 columns]"
      ]
     },
     "execution_count": 99,
     "metadata": {},
     "output_type": "execute_result"
    }
   ],
   "source": [
    "df = df.reset_index(drop=True)\n",
    "df"
   ]
  },
  {
   "cell_type": "markdown",
   "metadata": {},
   "source": [
    "### ii. Check for review text duplicates"
   ]
  },
  {
   "cell_type": "markdown",
   "metadata": {},
   "source": [
    "These are rows whereby the review text is the same but the score is not the same. Hence, we will manually go through each review text and translate if necessary to determine which score it should have"
   ]
  },
  {
   "cell_type": "code",
   "execution_count": 100,
   "metadata": {},
   "outputs": [
    {
     "name": "stdout",
     "output_type": "stream",
     "text": [
      "Number of duplicated reviews: 31\n"
     ]
    },
    {
     "data": {
      "text/html": [
       "<div>\n",
       "<style scoped>\n",
       "    .dataframe tbody tr th:only-of-type {\n",
       "        vertical-align: middle;\n",
       "    }\n",
       "\n",
       "    .dataframe tbody tr th {\n",
       "        vertical-align: top;\n",
       "    }\n",
       "\n",
       "    .dataframe thead th {\n",
       "        text-align: right;\n",
       "    }\n",
       "</style>\n",
       "<table border=\"1\" class=\"dataframe\">\n",
       "  <thead>\n",
       "    <tr style=\"text-align: right;\">\n",
       "      <th></th>\n",
       "      <th>Review</th>\n",
       "      <th>Score</th>\n",
       "    </tr>\n",
       "  </thead>\n",
       "  <tbody>\n",
       "    <tr>\n",
       "      <th>322</th>\n",
       "      <td>Amazing</td>\n",
       "      <td>0.12</td>\n",
       "    </tr>\n",
       "    <tr>\n",
       "      <th>397</th>\n",
       "      <td>Amazing</td>\n",
       "      <td>0.10</td>\n",
       "    </tr>\n",
       "    <tr>\n",
       "      <th>399</th>\n",
       "      <td>Captivating</td>\n",
       "      <td>0.20</td>\n",
       "    </tr>\n",
       "    <tr>\n",
       "      <th>311</th>\n",
       "      <td>Captivating</td>\n",
       "      <td>0.12</td>\n",
       "    </tr>\n",
       "    <tr>\n",
       "      <th>324</th>\n",
       "      <td>Complex</td>\n",
       "      <td>0.10</td>\n",
       "    </tr>\n",
       "    <tr>\n",
       "      <th>302</th>\n",
       "      <td>Complex</td>\n",
       "      <td>0.65</td>\n",
       "    </tr>\n",
       "    <tr>\n",
       "      <th>386</th>\n",
       "      <td>Epic</td>\n",
       "      <td>0.70</td>\n",
       "    </tr>\n",
       "    <tr>\n",
       "      <th>289</th>\n",
       "      <td>Epic</td>\n",
       "      <td>0.06</td>\n",
       "    </tr>\n",
       "    <tr>\n",
       "      <th>387</th>\n",
       "      <td>Great</td>\n",
       "      <td>0.10</td>\n",
       "    </tr>\n",
       "    <tr>\n",
       "      <th>308</th>\n",
       "      <td>Great</td>\n",
       "      <td>0.08</td>\n",
       "    </tr>\n",
       "    <tr>\n",
       "      <th>87</th>\n",
       "      <td>I didn't like how this movie ended. Unsatisfac...</td>\n",
       "      <td>0.75</td>\n",
       "    </tr>\n",
       "    <tr>\n",
       "      <th>23</th>\n",
       "      <td>I didn't like how this movie ended. Unsatisfac...</td>\n",
       "      <td>0.80</td>\n",
       "    </tr>\n",
       "    <tr>\n",
       "      <th>298</th>\n",
       "      <td>Impressive</td>\n",
       "      <td>0.08</td>\n",
       "    </tr>\n",
       "    <tr>\n",
       "      <th>391</th>\n",
       "      <td>Impressive</td>\n",
       "      <td>0.10</td>\n",
       "    </tr>\n",
       "    <tr>\n",
       "      <th>293</th>\n",
       "      <td>Intriguing</td>\n",
       "      <td>0.15</td>\n",
       "    </tr>\n",
       "    <tr>\n",
       "      <th>328</th>\n",
       "      <td>Intriguing</td>\n",
       "      <td>0.12</td>\n",
       "    </tr>\n",
       "    <tr>\n",
       "      <th>145</th>\n",
       "      <td>Lack of character development makes this film ...</td>\n",
       "      <td>0.75</td>\n",
       "    </tr>\n",
       "    <tr>\n",
       "      <th>165</th>\n",
       "      <td>Lack of character development makes this film ...</td>\n",
       "      <td>0.80</td>\n",
       "    </tr>\n",
       "    <tr>\n",
       "      <th>91</th>\n",
       "      <td>Overall, this movie is great! I will watch it ...</td>\n",
       "      <td>0.25</td>\n",
       "    </tr>\n",
       "    <tr>\n",
       "      <th>26</th>\n",
       "      <td>Overall, this movie is great! I will watch it ...</td>\n",
       "      <td>0.08</td>\n",
       "    </tr>\n",
       "    <tr>\n",
       "      <th>89</th>\n",
       "      <td>The actor did not manage to carry the characte...</td>\n",
       "      <td>0.69</td>\n",
       "    </tr>\n",
       "    <tr>\n",
       "      <th>25</th>\n",
       "      <td>The actor did not manage to carry the characte...</td>\n",
       "      <td>0.70</td>\n",
       "    </tr>\n",
       "    <tr>\n",
       "      <th>137</th>\n",
       "      <td>The visual effects and animation in this film ...</td>\n",
       "      <td>0.10</td>\n",
       "    </tr>\n",
       "    <tr>\n",
       "      <th>166</th>\n",
       "      <td>The visual effects and animation in this film ...</td>\n",
       "      <td>0.05</td>\n",
       "    </tr>\n",
       "    <tr>\n",
       "      <th>0</th>\n",
       "      <td>This movie is great! Thrilling action and a su...</td>\n",
       "      <td>0.10</td>\n",
       "    </tr>\n",
       "    <tr>\n",
       "      <th>2</th>\n",
       "      <td>This movie is great! Thrilling action and a su...</td>\n",
       "      <td>0.50</td>\n",
       "    </tr>\n",
       "    <tr>\n",
       "      <th>1</th>\n",
       "      <td>This movie is great! Thrilling action and a su...</td>\n",
       "      <td>0.90</td>\n",
       "    </tr>\n",
       "    <tr>\n",
       "      <th>88</th>\n",
       "      <td>This movie made me laugh and cry. Love the fee...</td>\n",
       "      <td>0.20</td>\n",
       "    </tr>\n",
       "    <tr>\n",
       "      <th>24</th>\n",
       "      <td>This movie made me laugh and cry. Love the fee...</td>\n",
       "      <td>0.15</td>\n",
       "    </tr>\n",
       "    <tr>\n",
       "      <th>329</th>\n",
       "      <td>Weak</td>\n",
       "      <td>0.50</td>\n",
       "    </tr>\n",
       "    <tr>\n",
       "      <th>307</th>\n",
       "      <td>Weak</td>\n",
       "      <td>0.75</td>\n",
       "    </tr>\n",
       "  </tbody>\n",
       "</table>\n",
       "</div>"
      ],
      "text/plain": [
       "                                                Review  Score\n",
       "322                                            Amazing   0.12\n",
       "397                                            Amazing   0.10\n",
       "399                                        Captivating   0.20\n",
       "311                                        Captivating   0.12\n",
       "324                                            Complex   0.10\n",
       "302                                            Complex   0.65\n",
       "386                                               Epic   0.70\n",
       "289                                               Epic   0.06\n",
       "387                                              Great   0.10\n",
       "308                                              Great   0.08\n",
       "87   I didn't like how this movie ended. Unsatisfac...   0.75\n",
       "23   I didn't like how this movie ended. Unsatisfac...   0.80\n",
       "298                                         Impressive   0.08\n",
       "391                                         Impressive   0.10\n",
       "293                                         Intriguing   0.15\n",
       "328                                         Intriguing   0.12\n",
       "145  Lack of character development makes this film ...   0.75\n",
       "165  Lack of character development makes this film ...   0.80\n",
       "91   Overall, this movie is great! I will watch it ...   0.25\n",
       "26   Overall, this movie is great! I will watch it ...   0.08\n",
       "89   The actor did not manage to carry the characte...   0.69\n",
       "25   The actor did not manage to carry the characte...   0.70\n",
       "137  The visual effects and animation in this film ...   0.10\n",
       "166  The visual effects and animation in this film ...   0.05\n",
       "0    This movie is great! Thrilling action and a su...   0.10\n",
       "2    This movie is great! Thrilling action and a su...   0.50\n",
       "1    This movie is great! Thrilling action and a su...   0.90\n",
       "88   This movie made me laugh and cry. Love the fee...   0.20\n",
       "24   This movie made me laugh and cry. Love the fee...   0.15\n",
       "329                                               Weak   0.50\n",
       "307                                               Weak   0.75"
      ]
     },
     "execution_count": 100,
     "metadata": {},
     "output_type": "execute_result"
    }
   ],
   "source": [
    "# find all reviews that are duplicated (i.e. have the same text)\n",
    "duplicated_reviews_df = df[df.duplicated(subset='Review', keep=False)].sort_values('Review')\n",
    "print(f'Number of duplicated reviews: {len(duplicated_reviews_df)}')\n",
    "duplicated_reviews_df"
   ]
  },
  {
   "cell_type": "markdown",
   "metadata": {},
   "source": [
    "I manually went through the reviews and determined their sentiment. From there, if the reviews' score matched the sentiment, I will calculate the average scores and update it to the first review, while dropping the other reviews. If the reviews' score did not match the sentiment, I will select based on the score closest to the sentiment and dropping the other reviews"
   ]
  },
  {
   "cell_type": "markdown",
   "metadata": {},
   "source": [
    "### iii. Remove review text duplicates"
   ]
  },
  {
   "cell_type": "code",
   "execution_count": 34,
   "metadata": {},
   "outputs": [],
   "source": [
    "rows_to_drop = [324, 386, 2, 1, 329]"
   ]
  },
  {
   "cell_type": "code",
   "execution_count": 35,
   "metadata": {},
   "outputs": [],
   "source": [
    "def average_score(*rows):\n",
    "    \"\"\"\n",
    "    Calculates average score of specified rows. Updates the mean score into the first row. Appends remaining rows to drop into rows_to_drop list.\n",
    "    \"\"\"\n",
    "    scores = []\n",
    "\n",
    "    for row in list(rows):\n",
    "        scores.append(df.iloc[row, :]['Score'])\n",
    "\n",
    "    mean_score = np.mean(np.array(scores))\n",
    "    \n",
    "    df.iloc[rows[0], 1] = mean_score\n",
    "    \n",
    "    for i in rows[1:]:\n",
    "        rows_to_drop.append(i)"
   ]
  },
  {
   "cell_type": "code",
   "execution_count": 36,
   "metadata": {},
   "outputs": [],
   "source": [
    "average_score(322, 397)\n",
    "average_score(399, 311)\n",
    "average_score(387, 308)\n",
    "average_score(87, 23)\n",
    "average_score(298, 391)\n",
    "average_score(293, 328)\n",
    "average_score(145, 165)\n",
    "average_score(91, 26)\n",
    "average_score(89, 25)\n",
    "average_score(137, 166)\n",
    "average_score(88, 24)"
   ]
  },
  {
   "cell_type": "code",
   "execution_count": 37,
   "metadata": {},
   "outputs": [
    {
     "data": {
      "text/html": [
       "<div>\n",
       "<style scoped>\n",
       "    .dataframe tbody tr th:only-of-type {\n",
       "        vertical-align: middle;\n",
       "    }\n",
       "\n",
       "    .dataframe tbody tr th {\n",
       "        vertical-align: top;\n",
       "    }\n",
       "\n",
       "    .dataframe thead th {\n",
       "        text-align: right;\n",
       "    }\n",
       "</style>\n",
       "<table border=\"1\" class=\"dataframe\">\n",
       "  <thead>\n",
       "    <tr style=\"text-align: right;\">\n",
       "      <th></th>\n",
       "      <th>Review</th>\n",
       "      <th>Score</th>\n",
       "    </tr>\n",
       "  </thead>\n",
       "  <tbody>\n",
       "  </tbody>\n",
       "</table>\n",
       "</div>"
      ],
      "text/plain": [
       "Empty DataFrame\n",
       "Columns: [Review, Score]\n",
       "Index: []"
      ]
     },
     "execution_count": 37,
     "metadata": {},
     "output_type": "execute_result"
    }
   ],
   "source": [
    "df = df.drop(rows_to_drop)\n",
    "df[df.duplicated(subset='Review', keep=False)]"
   ]
  },
  {
   "cell_type": "markdown",
   "metadata": {},
   "source": [
    "## D. Sentiment"
   ]
  },
  {
   "cell_type": "markdown",
   "metadata": {},
   "source": [
    "### i. Split reviews according to sentiment"
   ]
  },
  {
   "cell_type": "code",
   "execution_count": 38,
   "metadata": {},
   "outputs": [
    {
     "data": {
      "text/html": [
       "<div>\n",
       "<style scoped>\n",
       "    .dataframe tbody tr th:only-of-type {\n",
       "        vertical-align: middle;\n",
       "    }\n",
       "\n",
       "    .dataframe tbody tr th {\n",
       "        vertical-align: top;\n",
       "    }\n",
       "\n",
       "    .dataframe thead th {\n",
       "        text-align: right;\n",
       "    }\n",
       "</style>\n",
       "<table border=\"1\" class=\"dataframe\">\n",
       "  <thead>\n",
       "    <tr style=\"text-align: right;\">\n",
       "      <th></th>\n",
       "      <th>Review</th>\n",
       "      <th>Score</th>\n",
       "      <th>Negative</th>\n",
       "    </tr>\n",
       "  </thead>\n",
       "  <tbody>\n",
       "    <tr>\n",
       "      <th>0</th>\n",
       "      <td>This movie is great! Thrilling action and a su...</td>\n",
       "      <td>0.10</td>\n",
       "      <td>0</td>\n",
       "    </tr>\n",
       "    <tr>\n",
       "      <th>1</th>\n",
       "      <td>Too bad the actors didn't give their best perf...</td>\n",
       "      <td>0.80</td>\n",
       "      <td>1</td>\n",
       "    </tr>\n",
       "    <tr>\n",
       "      <th>2</th>\n",
       "      <td>A complex and emotional storyline. Really ente...</td>\n",
       "      <td>0.20</td>\n",
       "      <td>0</td>\n",
       "    </tr>\n",
       "    <tr>\n",
       "      <th>3</th>\n",
       "      <td>The filmmakers managed to provide an unforgett...</td>\n",
       "      <td>0.05</td>\n",
       "      <td>0</td>\n",
       "    </tr>\n",
       "    <tr>\n",
       "      <th>4</th>\n",
       "      <td>Too many action scenes and shocks. Sometimes a...</td>\n",
       "      <td>0.40</td>\n",
       "      <td>0</td>\n",
       "    </tr>\n",
       "    <tr>\n",
       "      <th>...</th>\n",
       "      <td>...</td>\n",
       "      <td>...</td>\n",
       "      <td>...</td>\n",
       "    </tr>\n",
       "    <tr>\n",
       "      <th>383</th>\n",
       "      <td>Captivating</td>\n",
       "      <td>0.16</td>\n",
       "      <td>0</td>\n",
       "    </tr>\n",
       "    <tr>\n",
       "      <th>384</th>\n",
       "      <td>Dizziness</td>\n",
       "      <td>0.70</td>\n",
       "      <td>1</td>\n",
       "    </tr>\n",
       "    <tr>\n",
       "      <th>385</th>\n",
       "      <td>Effective</td>\n",
       "      <td>0.20</td>\n",
       "      <td>0</td>\n",
       "    </tr>\n",
       "    <tr>\n",
       "      <th>386</th>\n",
       "      <td>Simple and bad</td>\n",
       "      <td>0.60</td>\n",
       "      <td>1</td>\n",
       "    </tr>\n",
       "    <tr>\n",
       "      <th>387</th>\n",
       "      <td>Perfect</td>\n",
       "      <td>0.10</td>\n",
       "      <td>0</td>\n",
       "    </tr>\n",
       "  </tbody>\n",
       "</table>\n",
       "<p>388 rows × 3 columns</p>\n",
       "</div>"
      ],
      "text/plain": [
       "                                                Review  Score  Negative\n",
       "0    This movie is great! Thrilling action and a su...   0.10         0\n",
       "1    Too bad the actors didn't give their best perf...   0.80         1\n",
       "2    A complex and emotional storyline. Really ente...   0.20         0\n",
       "3    The filmmakers managed to provide an unforgett...   0.05         0\n",
       "4    Too many action scenes and shocks. Sometimes a...   0.40         0\n",
       "..                                                 ...    ...       ...\n",
       "383                                        Captivating   0.16         0\n",
       "384                                          Dizziness   0.70         1\n",
       "385                                          Effective   0.20         0\n",
       "386                                     Simple and bad   0.60         1\n",
       "387                                            Perfect   0.10         0\n",
       "\n",
       "[388 rows x 3 columns]"
      ]
     },
     "execution_count": 38,
     "metadata": {},
     "output_type": "execute_result"
    }
   ],
   "source": [
    "df['Negative'] = df['Score'].apply(lambda x: 1 if x > 0.5 else 0)\n",
    "df = df.reset_index(drop=True)\n",
    "df"
   ]
  },
  {
   "cell_type": "code",
   "execution_count": 39,
   "metadata": {},
   "outputs": [
    {
     "data": {
      "text/html": [
       "<div>\n",
       "<style scoped>\n",
       "    .dataframe tbody tr th:only-of-type {\n",
       "        vertical-align: middle;\n",
       "    }\n",
       "\n",
       "    .dataframe tbody tr th {\n",
       "        vertical-align: top;\n",
       "    }\n",
       "\n",
       "    .dataframe thead th {\n",
       "        text-align: right;\n",
       "    }\n",
       "</style>\n",
       "<table border=\"1\" class=\"dataframe\">\n",
       "  <thead>\n",
       "    <tr style=\"text-align: right;\">\n",
       "      <th></th>\n",
       "      <th>Review</th>\n",
       "      <th>Negative</th>\n",
       "    </tr>\n",
       "  </thead>\n",
       "  <tbody>\n",
       "    <tr>\n",
       "      <th>0</th>\n",
       "      <td>This movie is great! Thrilling action and a su...</td>\n",
       "      <td>0</td>\n",
       "    </tr>\n",
       "    <tr>\n",
       "      <th>1</th>\n",
       "      <td>Too bad the actors didn't give their best perf...</td>\n",
       "      <td>1</td>\n",
       "    </tr>\n",
       "    <tr>\n",
       "      <th>2</th>\n",
       "      <td>A complex and emotional storyline. Really ente...</td>\n",
       "      <td>0</td>\n",
       "    </tr>\n",
       "    <tr>\n",
       "      <th>3</th>\n",
       "      <td>The filmmakers managed to provide an unforgett...</td>\n",
       "      <td>0</td>\n",
       "    </tr>\n",
       "    <tr>\n",
       "      <th>4</th>\n",
       "      <td>Too many action scenes and shocks. Sometimes a...</td>\n",
       "      <td>0</td>\n",
       "    </tr>\n",
       "    <tr>\n",
       "      <th>...</th>\n",
       "      <td>...</td>\n",
       "      <td>...</td>\n",
       "    </tr>\n",
       "    <tr>\n",
       "      <th>383</th>\n",
       "      <td>Captivating</td>\n",
       "      <td>0</td>\n",
       "    </tr>\n",
       "    <tr>\n",
       "      <th>384</th>\n",
       "      <td>Dizziness</td>\n",
       "      <td>1</td>\n",
       "    </tr>\n",
       "    <tr>\n",
       "      <th>385</th>\n",
       "      <td>Effective</td>\n",
       "      <td>0</td>\n",
       "    </tr>\n",
       "    <tr>\n",
       "      <th>386</th>\n",
       "      <td>Simple and bad</td>\n",
       "      <td>1</td>\n",
       "    </tr>\n",
       "    <tr>\n",
       "      <th>387</th>\n",
       "      <td>Perfect</td>\n",
       "      <td>0</td>\n",
       "    </tr>\n",
       "  </tbody>\n",
       "</table>\n",
       "<p>388 rows × 2 columns</p>\n",
       "</div>"
      ],
      "text/plain": [
       "                                                Review  Negative\n",
       "0    This movie is great! Thrilling action and a su...         0\n",
       "1    Too bad the actors didn't give their best perf...         1\n",
       "2    A complex and emotional storyline. Really ente...         0\n",
       "3    The filmmakers managed to provide an unforgett...         0\n",
       "4    Too many action scenes and shocks. Sometimes a...         0\n",
       "..                                                 ...       ...\n",
       "383                                        Captivating         0\n",
       "384                                          Dizziness         1\n",
       "385                                          Effective         0\n",
       "386                                     Simple and bad         1\n",
       "387                                            Perfect         0\n",
       "\n",
       "[388 rows x 2 columns]"
      ]
     },
     "execution_count": 39,
     "metadata": {},
     "output_type": "execute_result"
    }
   ],
   "source": [
    "df = df.drop(columns=['Score'])\n",
    "df"
   ]
  },
  {
   "cell_type": "markdown",
   "metadata": {},
   "source": [
    "### ii. View sentiment distribution"
   ]
  },
  {
   "cell_type": "code",
   "execution_count": 40,
   "metadata": {},
   "outputs": [
    {
     "data": {
      "image/png": "[encoded data removed]",
      "text/plain": [
       "<Figure size 640x480 with 1 Axes>"
      ]
     },
     "metadata": {},
     "output_type": "display_data"
    }
   ],
   "source": [
    "df['Negative'].value_counts().plot(kind='bar')\n",
    "\n",
    "for index, count in enumerate(df['Negative'].value_counts()):\n",
    "    plt.text(index, count+10, str(count), ha='center')\n",
    "\n",
    "plt.title('Number of Reviews Per Sentiment Class')\n",
    "plt.ylabel('Number of Reviews')\n",
    "plt.xticks(rotation=0)\n",
    "plt.ylim(0, 350)\n",
    "plt.show()"
   ]
  },
  {
   "cell_type": "markdown",
   "metadata": {},
   "source": [
    "We can tell that there is a huge class imbalance in the dataset as we have seen earlier. Not only that, the number of reviews for each class are also fairly little which may not be enough to train a model with good performance. Hence, we will split the existing reviews into more reviews to generate more data by '.' or '!'"
   ]
  },
  {
   "cell_type": "markdown",
   "metadata": {},
   "source": [
    "### iii. Generate more reviews"
   ]
  },
  {
   "cell_type": "code",
   "execution_count": 41,
   "metadata": {},
   "outputs": [
    {
     "name": "stdout",
     "output_type": "stream",
     "text": [
      "Number of reviews before generation: 388\n"
     ]
    }
   ],
   "source": [
    "before_generation = len(df)\n",
    "print(f'Number of reviews before generation: {before_generation}')"
   ]
  },
  {
   "cell_type": "code",
   "execution_count": 42,
   "metadata": {},
   "outputs": [
    {
     "data": {
      "text/html": [
       "<div>\n",
       "<style scoped>\n",
       "    .dataframe tbody tr th:only-of-type {\n",
       "        vertical-align: middle;\n",
       "    }\n",
       "\n",
       "    .dataframe tbody tr th {\n",
       "        vertical-align: top;\n",
       "    }\n",
       "\n",
       "    .dataframe thead th {\n",
       "        text-align: right;\n",
       "    }\n",
       "</style>\n",
       "<table border=\"1\" class=\"dataframe\">\n",
       "  <thead>\n",
       "    <tr style=\"text-align: right;\">\n",
       "      <th></th>\n",
       "      <th>Review</th>\n",
       "      <th>Negative</th>\n",
       "    </tr>\n",
       "  </thead>\n",
       "  <tbody>\n",
       "    <tr>\n",
       "      <th>0</th>\n",
       "      <td>This movie is great</td>\n",
       "      <td>0</td>\n",
       "    </tr>\n",
       "    <tr>\n",
       "      <th>0</th>\n",
       "      <td>Thrilling action and a surprising plot</td>\n",
       "      <td>0</td>\n",
       "    </tr>\n",
       "    <tr>\n",
       "      <th>0</th>\n",
       "      <td></td>\n",
       "      <td>0</td>\n",
       "    </tr>\n",
       "    <tr>\n",
       "      <th>1</th>\n",
       "      <td>Too bad the actors didn't give their best perf...</td>\n",
       "      <td>1</td>\n",
       "    </tr>\n",
       "    <tr>\n",
       "      <th>1</th>\n",
       "      <td>Not satisfied</td>\n",
       "      <td>1</td>\n",
       "    </tr>\n",
       "    <tr>\n",
       "      <th>...</th>\n",
       "      <td>...</td>\n",
       "      <td>...</td>\n",
       "    </tr>\n",
       "    <tr>\n",
       "      <th>383</th>\n",
       "      <td>Captivating</td>\n",
       "      <td>0</td>\n",
       "    </tr>\n",
       "    <tr>\n",
       "      <th>384</th>\n",
       "      <td>Dizziness</td>\n",
       "      <td>1</td>\n",
       "    </tr>\n",
       "    <tr>\n",
       "      <th>385</th>\n",
       "      <td>Effective</td>\n",
       "      <td>0</td>\n",
       "    </tr>\n",
       "    <tr>\n",
       "      <th>386</th>\n",
       "      <td>Simple and bad</td>\n",
       "      <td>1</td>\n",
       "    </tr>\n",
       "    <tr>\n",
       "      <th>387</th>\n",
       "      <td>Perfect</td>\n",
       "      <td>0</td>\n",
       "    </tr>\n",
       "  </tbody>\n",
       "</table>\n",
       "<p>991 rows × 2 columns</p>\n",
       "</div>"
      ],
      "text/plain": [
       "                                                Review  Negative\n",
       "0                                  This movie is great         0\n",
       "0               Thrilling action and a surprising plot         0\n",
       "0                                                              0\n",
       "1    Too bad the actors didn't give their best perf...         1\n",
       "1                                        Not satisfied         1\n",
       "..                                                 ...       ...\n",
       "383                                        Captivating         0\n",
       "384                                          Dizziness         1\n",
       "385                                          Effective         0\n",
       "386                                     Simple and bad         1\n",
       "387                                            Perfect         0\n",
       "\n",
       "[991 rows x 2 columns]"
      ]
     },
     "execution_count": 42,
     "metadata": {},
     "output_type": "execute_result"
    }
   ],
   "source": [
    "df.loc[:, 'Review'] = df['Review'].apply(lambda x: x.split('.'))\n",
    "df = df.explode('Review')\n",
    "\n",
    "df.loc[:, 'Review'] = df['Review'].apply(lambda x: x.split('!'))\n",
    "df = df.explode('Review')\n",
    "\n",
    "df"
   ]
  },
  {
   "cell_type": "markdown",
   "metadata": {},
   "source": [
    "After generating more data, there might be some duplicates generated too. Hence, we will remove these duplicates"
   ]
  },
  {
   "cell_type": "code",
   "execution_count": 43,
   "metadata": {},
   "outputs": [
    {
     "data": {
      "text/html": [
       "<div>\n",
       "<style scoped>\n",
       "    .dataframe tbody tr th:only-of-type {\n",
       "        vertical-align: middle;\n",
       "    }\n",
       "\n",
       "    .dataframe tbody tr th {\n",
       "        vertical-align: top;\n",
       "    }\n",
       "\n",
       "    .dataframe thead th {\n",
       "        text-align: right;\n",
       "    }\n",
       "</style>\n",
       "<table border=\"1\" class=\"dataframe\">\n",
       "  <thead>\n",
       "    <tr style=\"text-align: right;\">\n",
       "      <th></th>\n",
       "      <th>Review</th>\n",
       "      <th>Negative</th>\n",
       "    </tr>\n",
       "  </thead>\n",
       "  <tbody>\n",
       "    <tr>\n",
       "      <th>2</th>\n",
       "      <td></td>\n",
       "      <td>0</td>\n",
       "    </tr>\n",
       "    <tr>\n",
       "      <th>3</th>\n",
       "      <td></td>\n",
       "      <td>0</td>\n",
       "    </tr>\n",
       "    <tr>\n",
       "      <th>4</th>\n",
       "      <td></td>\n",
       "      <td>0</td>\n",
       "    </tr>\n",
       "    <tr>\n",
       "      <th>5</th>\n",
       "      <td></td>\n",
       "      <td>0</td>\n",
       "    </tr>\n",
       "    <tr>\n",
       "      <th>6</th>\n",
       "      <td></td>\n",
       "      <td>1</td>\n",
       "    </tr>\n",
       "    <tr>\n",
       "      <th>...</th>\n",
       "      <td>...</td>\n",
       "      <td>...</td>\n",
       "    </tr>\n",
       "    <tr>\n",
       "      <th>273</th>\n",
       "      <td></td>\n",
       "      <td>0</td>\n",
       "    </tr>\n",
       "    <tr>\n",
       "      <th>274</th>\n",
       "      <td></td>\n",
       "      <td>0</td>\n",
       "    </tr>\n",
       "    <tr>\n",
       "      <th>275</th>\n",
       "      <td></td>\n",
       "      <td>0</td>\n",
       "    </tr>\n",
       "    <tr>\n",
       "      <th>276</th>\n",
       "      <td></td>\n",
       "      <td>0</td>\n",
       "    </tr>\n",
       "    <tr>\n",
       "      <th>277</th>\n",
       "      <td></td>\n",
       "      <td>0</td>\n",
       "    </tr>\n",
       "  </tbody>\n",
       "</table>\n",
       "<p>349 rows × 2 columns</p>\n",
       "</div>"
      ],
      "text/plain": [
       "    Review  Negative\n",
       "2                  0\n",
       "3                  0\n",
       "4                  0\n",
       "5                  0\n",
       "6                  1\n",
       "..     ...       ...\n",
       "273                0\n",
       "274                0\n",
       "275                0\n",
       "276                0\n",
       "277                0\n",
       "\n",
       "[349 rows x 2 columns]"
      ]
     },
     "execution_count": 43,
     "metadata": {},
     "output_type": "execute_result"
    }
   ],
   "source": [
    "df[df.duplicated()]"
   ]
  },
  {
   "cell_type": "code",
   "execution_count": 44,
   "metadata": {},
   "outputs": [
    {
     "data": {
      "text/html": [
       "<div>\n",
       "<style scoped>\n",
       "    .dataframe tbody tr th:only-of-type {\n",
       "        vertical-align: middle;\n",
       "    }\n",
       "\n",
       "    .dataframe tbody tr th {\n",
       "        vertical-align: top;\n",
       "    }\n",
       "\n",
       "    .dataframe thead th {\n",
       "        text-align: right;\n",
       "    }\n",
       "</style>\n",
       "<table border=\"1\" class=\"dataframe\">\n",
       "  <thead>\n",
       "    <tr style=\"text-align: right;\">\n",
       "      <th></th>\n",
       "      <th>Review</th>\n",
       "      <th>Negative</th>\n",
       "    </tr>\n",
       "  </thead>\n",
       "  <tbody>\n",
       "    <tr>\n",
       "      <th>0</th>\n",
       "      <td>This movie is great</td>\n",
       "      <td>0</td>\n",
       "    </tr>\n",
       "    <tr>\n",
       "      <th>0</th>\n",
       "      <td>Thrilling action and a surprising plot</td>\n",
       "      <td>0</td>\n",
       "    </tr>\n",
       "    <tr>\n",
       "      <th>0</th>\n",
       "      <td></td>\n",
       "      <td>0</td>\n",
       "    </tr>\n",
       "    <tr>\n",
       "      <th>1</th>\n",
       "      <td>Too bad the actors didn't give their best perf...</td>\n",
       "      <td>1</td>\n",
       "    </tr>\n",
       "    <tr>\n",
       "      <th>1</th>\n",
       "      <td>Not satisfied</td>\n",
       "      <td>1</td>\n",
       "    </tr>\n",
       "    <tr>\n",
       "      <th>...</th>\n",
       "      <td>...</td>\n",
       "      <td>...</td>\n",
       "    </tr>\n",
       "    <tr>\n",
       "      <th>383</th>\n",
       "      <td>Captivating</td>\n",
       "      <td>0</td>\n",
       "    </tr>\n",
       "    <tr>\n",
       "      <th>384</th>\n",
       "      <td>Dizziness</td>\n",
       "      <td>1</td>\n",
       "    </tr>\n",
       "    <tr>\n",
       "      <th>385</th>\n",
       "      <td>Effective</td>\n",
       "      <td>0</td>\n",
       "    </tr>\n",
       "    <tr>\n",
       "      <th>386</th>\n",
       "      <td>Simple and bad</td>\n",
       "      <td>1</td>\n",
       "    </tr>\n",
       "    <tr>\n",
       "      <th>387</th>\n",
       "      <td>Perfect</td>\n",
       "      <td>0</td>\n",
       "    </tr>\n",
       "  </tbody>\n",
       "</table>\n",
       "<p>642 rows × 2 columns</p>\n",
       "</div>"
      ],
      "text/plain": [
       "                                                Review  Negative\n",
       "0                                  This movie is great         0\n",
       "0               Thrilling action and a surprising plot         0\n",
       "0                                                              0\n",
       "1    Too bad the actors didn't give their best perf...         1\n",
       "1                                        Not satisfied         1\n",
       "..                                                 ...       ...\n",
       "383                                        Captivating         0\n",
       "384                                          Dizziness         1\n",
       "385                                          Effective         0\n",
       "386                                     Simple and bad         1\n",
       "387                                            Perfect         0\n",
       "\n",
       "[642 rows x 2 columns]"
      ]
     },
     "execution_count": 44,
     "metadata": {},
     "output_type": "execute_result"
    }
   ],
   "source": [
    "df = df.drop_duplicates()\n",
    "df"
   ]
  },
  {
   "cell_type": "code",
   "execution_count": 45,
   "metadata": {},
   "outputs": [
    {
     "data": {
      "text/html": [
       "<div>\n",
       "<style scoped>\n",
       "    .dataframe tbody tr th:only-of-type {\n",
       "        vertical-align: middle;\n",
       "    }\n",
       "\n",
       "    .dataframe tbody tr th {\n",
       "        vertical-align: top;\n",
       "    }\n",
       "\n",
       "    .dataframe thead th {\n",
       "        text-align: right;\n",
       "    }\n",
       "</style>\n",
       "<table border=\"1\" class=\"dataframe\">\n",
       "  <thead>\n",
       "    <tr style=\"text-align: right;\">\n",
       "      <th></th>\n",
       "      <th>Review</th>\n",
       "      <th>Negative</th>\n",
       "    </tr>\n",
       "  </thead>\n",
       "  <tbody>\n",
       "    <tr>\n",
       "      <th>0</th>\n",
       "      <td>This movie is great</td>\n",
       "      <td>0</td>\n",
       "    </tr>\n",
       "    <tr>\n",
       "      <th>0</th>\n",
       "      <td>Thrilling action and a surprising plot</td>\n",
       "      <td>0</td>\n",
       "    </tr>\n",
       "    <tr>\n",
       "      <th>1</th>\n",
       "      <td>Too bad the actors didn't give their best perf...</td>\n",
       "      <td>1</td>\n",
       "    </tr>\n",
       "    <tr>\n",
       "      <th>1</th>\n",
       "      <td>Not satisfied</td>\n",
       "      <td>1</td>\n",
       "    </tr>\n",
       "    <tr>\n",
       "      <th>2</th>\n",
       "      <td>A complex and emotional storyline</td>\n",
       "      <td>0</td>\n",
       "    </tr>\n",
       "    <tr>\n",
       "      <th>...</th>\n",
       "      <td>...</td>\n",
       "      <td>...</td>\n",
       "    </tr>\n",
       "    <tr>\n",
       "      <th>383</th>\n",
       "      <td>Captivating</td>\n",
       "      <td>0</td>\n",
       "    </tr>\n",
       "    <tr>\n",
       "      <th>384</th>\n",
       "      <td>Dizziness</td>\n",
       "      <td>1</td>\n",
       "    </tr>\n",
       "    <tr>\n",
       "      <th>385</th>\n",
       "      <td>Effective</td>\n",
       "      <td>0</td>\n",
       "    </tr>\n",
       "    <tr>\n",
       "      <th>386</th>\n",
       "      <td>Simple and bad</td>\n",
       "      <td>1</td>\n",
       "    </tr>\n",
       "    <tr>\n",
       "      <th>387</th>\n",
       "      <td>Perfect</td>\n",
       "      <td>0</td>\n",
       "    </tr>\n",
       "  </tbody>\n",
       "</table>\n",
       "<p>640 rows × 2 columns</p>\n",
       "</div>"
      ],
      "text/plain": [
       "                                                Review  Negative\n",
       "0                                  This movie is great         0\n",
       "0               Thrilling action and a surprising plot         0\n",
       "1    Too bad the actors didn't give their best perf...         1\n",
       "1                                        Not satisfied         1\n",
       "2                    A complex and emotional storyline         0\n",
       "..                                                 ...       ...\n",
       "383                                        Captivating         0\n",
       "384                                          Dizziness         1\n",
       "385                                          Effective         0\n",
       "386                                     Simple and bad         1\n",
       "387                                            Perfect         0\n",
       "\n",
       "[640 rows x 2 columns]"
      ]
     },
     "execution_count": 45,
     "metadata": {},
     "output_type": "execute_result"
    }
   ],
   "source": [
    "df = df[df['Review'] != '']\n",
    "df"
   ]
  },
  {
   "cell_type": "code",
   "execution_count": 46,
   "metadata": {},
   "outputs": [
    {
     "name": "stdout",
     "output_type": "stream",
     "text": [
      "Number of reviews after generation: 640\n",
      "Total number of reviews generated: 252\n"
     ]
    }
   ],
   "source": [
    "print(f'Number of reviews after generation: {len(df)}')\n",
    "print(f'Total number of reviews generated: {len(df) - before_generation}')"
   ]
  },
  {
   "cell_type": "code",
   "execution_count": 47,
   "metadata": {},
   "outputs": [
    {
     "data": {
      "image/png": "[encoded data removed]",
      "text/plain": [
       "<Figure size 640x480 with 1 Axes>"
      ]
     },
     "metadata": {},
     "output_type": "display_data"
    }
   ],
   "source": [
    "df['Negative'].value_counts().plot(kind='bar')\n",
    "for index, count in enumerate(df['Negative'].value_counts()):\n",
    "    plt.text(index, count+10, str(count), ha='center')\n",
    "plt.title('Number of Reviews Per Sentiment Class')\n",
    "plt.ylabel('Number of Reviews')\n",
    "plt.xticks(rotation=0)\n",
    "plt.ylim(0, 550)\n",
    "plt.show()"
   ]
  },
  {
   "cell_type": "markdown",
   "metadata": {},
   "source": [
    "### iv. View review text length distribution"
   ]
  },
  {
   "cell_type": "code",
   "execution_count": 48,
   "metadata": {},
   "outputs": [
    {
     "data": {
      "image/png": "[encoded data removed]",
      "text/plain": [
       "<Figure size 1000x600 with 1 Axes>"
      ]
     },
     "metadata": {},
     "output_type": "display_data"
    }
   ],
   "source": [
    "plt.figure(figsize=(10, 6))\n",
    "sns.histplot(df['Review'].apply(lambda x: len(x.split())), kde=True, bins=20)\n",
    "plt.title('Number of Words Per Review')\n",
    "plt.xlabel('Number of Words')\n",
    "plt.ylabel('Frequency')\n",
    "plt.show()"
   ]
  },
  {
   "cell_type": "markdown",
   "metadata": {},
   "source": [
    "From the graph, we can see that there are many 1 worded reviews. The model may perform better with 1 worded reviews than others"
   ]
  },
  {
   "cell_type": "markdown",
   "metadata": {},
   "source": [
    "## E. Tokenization"
   ]
  },
  {
   "cell_type": "code",
   "execution_count": 49,
   "metadata": {},
   "outputs": [
    {
     "name": "stdout",
     "output_type": "stream",
     "text": [
      "{'the': 1, 'a': 2, 'of': 3, 'and': 4, 'to': 5, 'is': 6, 'film': 7, 'this': 8, 'action': 9, 'plot': 10, 'avengers': 11, 'in': 12, 'endgame': 13, 'i': 14, 'with': 15, 'are': 16, 'visual': 17, 'effects': 18, 'movie': 19, 'emotional': 20, 'that': 21, 'narrative': 22, 'an': 23, 'cinematic': 24, 'character': 25, 'experience': 26, 'conclusion': 27, 'it': 28, \"film's\": 29, 'too': 30, 'scenes': 31, 'sequences': 32, 'epic': 33, 'while': 34, 'moments': 35, 'amazing': 36, 'its': 37, 'performances': 38, 'not': 39, 'characters': 40, 'marvel': 41, 'creating': 42, 'interesting': 43, 'storytelling': 44, 'elements': 45, 'like': 46, \"i'm\": 47, 'from': 48, 'for': 49, 'thrilling': 50, 'story': 51, 'twist': 52, 'may': 53, 'actors': 54, 'end': 55, 'depth': 56, 'some': 57, 'complex': 58, 'very': 59, 'overall': 60, 'but': 61, 'cast': 62, 'by': 63, 'satisfying': 64, 'spectacle': 65, 'audience': 66, 'visually': 67, 'great': 68, 'excited': 69, 'how': 70, 'outstanding': 71, 'twists': 72, 'visuals': 73, 'stunning': 74, 'saga': 75, 'certain': 76, 'their': 77, 'storyline': 78, 'delivers': 79, 'feel': 80, 'impressive': 81, 'short': 82, 'on': 83, 'intricate': 84, 'love': 85, 'breathtaking': 86, 'truly': 87, 'engaging': 88, 'emotionally': 89, 'superhero': 90, \"endgame's\": 91, 'many': 92, 'deep': 93, 'as': 94, 'me': 95, 'special': 96, 'development': 97, 'weak': 98, 'watch': 99, 'closure': 100, 'nothing': 101, 'between': 102, 'however': 103, 'arcs': 104, 'was': 105, 'disappointing': 106, 'performance': 107, 'about': 108, 'emotions': 109, 'top': 110, 'impact': 111, 'adds': 112, 'leaves': 113, 'resonant': 114, 'testament': 115, 'universe': 116, 'fitting': 117, 'surprising': 118, 'science': 119, 'fiction': 120, 'impressed': 121, 'time': 122, 'has': 123, 'at': 124, 'resonance': 125, 'balance': 126, 'seamlessly': 127, 'entertaining': 128, 'throughout': 129, 'big': 130, 'surprise': 131, 'open': 132, 'lack': 133, 'storylines': 134, 'provides': 135, 'animation': 136, 'intriguing': 137, 'captivating': 138, 'intense': 139, 'leave': 140, 'weaves': 141, 'together': 142, 'despite': 143, 'filmmaking': 144, 'complexity': 145, 'detail': 146, 'really': 147, \"don't\": 148, 'dialogue': 149, 'less': 150, 'gave': 151, 'mesmerizing': 152, 'there': 153, 'no': 154, 'exceptional': 155, 'heart': 156, 'ended': 157, 'somewhat': 158, 'make': 159, 'compelling': 160, 'find': 161, 'commendable': 162, 'turns': 163, 'rollercoaster': 164, 'each': 165, 'fans': 166, 'successfully': 167, 'providing': 168, 'attention': 169, 'multiple': 170, 'ability': 171, 'era': 172, 'give': 173, 'bit': 174, 'full': 175, 'quality': 176, 'up': 177, 'prowess': 178, 'makes': 179, 'touching': 180, 'overly': 181, 'previous': 182, 'well': 183, 'thrilled': 184, 'impactful': 185, 'unsatisfying': 186, 'highly': 187, 'brilliance': 188, 'overwhelming': 189, 'lasting': 190, 'notch': 191, 'feast': 192, 'both': 193, 'be': 194, 'keeps': 195, 'engaged': 196, 'blend': 197, 'feels': 198, 'unexpected': 199, 'genre': 200, 'delivering': 201, 'making': 202, \"characters'\": 203, 'memorable': 204, 'humor': 205, 'journey': 206, 'rushed': 207, 'showcases': 208, 'have': 209, 'pacing': 210, 'infinity': 211, 'sometimes': 212, 'incredible': 213, 'feeling': 214, 'actor': 215, 'complicated': 216, 'dramatic': 217, 'bored': 218, 'combines': 219, 'comedy': 220, 'technical': 221, 'incorporates': 222, 'trilogy': 223, 'follow': 224, 'expected': 225, 'atmosphere': 226, 'emotion': 227, 'creates': 228, 'over': 229, 'confusing': 230, 'ordinary': 231, 'masterpiece': 232, 'must': 233, 'falls': 234, 'remarkable': 235, 'flat': 236, 'edge': 237, 'spectacular': 238, 'appreciate': 239, 'awe': 240, 'inspiring': 241, 'strikes': 242, 'crafted': 243, 'layer': 244, 'leaving': 245, 'audiences': 246, 'underwhelming': 247, 'compensates': 248, 'frame': 249, 'meticulously': 250, 'journeys': 251, 'set': 252, 'more': 253, 'technological': 254, 'travel': 255, 'keeping': 256, 'viewers': 257, 'create': 258, 'cgi': 259, 'practical': 260, 'beats': 261, 'striking': 262, 'bad': 263, \"didn't\": 264, 'satisfied': 265, 'provide': 266, 'unforgettable': 267, 'much': 268, 'am': 269, 'good': 270, 'surprises': 271, 'lead': 272, 'convincing': 273, 'excessive': 274, 'understand': 275, 'satisfactory': 276, 'hype': 277, 'unsatisfactory': 278, 'tension': 279, 'middle': 280, 'design': 281, 'unnecessary': 282, 'every': 283, 'conveyed': 284, \"actors'\": 285, 'main': 286, 'deliver': 287, 'would': 288, \"trilogy's\": 289, 'hard': 290, 'abundance': 291, 'captivated': 292, 'start': 293, 'finish': 294, 'expectations': 295, 'predictable': 296, 'profound': 297, 'impression': 298, 'mind': 299, 'nature': 300, 'room': 301, 'laughter': 302, 'tears': 303, 'loose': 304, 'ends': 305, 'thoroughly': 306, 'missed': 307, 'stellar': 308, 'challenging': 309, 'moving': 310, 'seats': 311, 'reintroduces': 312, 'thought': 313, 'provoking': 314, 'wrenching': 315, 'themes': 316, 'high': 317, 'invested': 318, 'weight': 319, 'balances': 320, 'various': 321, 'overarching': 322, 'boundaries': 323, 'elevates': 324, 'occasionally': 325, 'grandeur': 326, 'tapestry': 327, 'charged': 328, 'team': 329, 'sense': 330, 'ambitious': 331, 'impacting': 332, 'new': 333, 'evoke': 334, 'authenticity': 335, 'pays': 336, 'homage': 337, 'jaw': 338, 'dropping': 339, 'especially': 340, 'long': 341, 'who': 342, 'triumph': 343, 'nevertheless': 344, 'timelines': 345, 'promise': 346, 'bittersweet': 347, 'farewell': 348, 'beloved': 349, 'poignant': 350, 'excels': 351, 'packed': 352, 'resolutions': 353, 'battles': 354, 'serves': 355, \"it's\": 356, 'integration': 357, 'exciting': 358, 'nuances': 359, 'think': 360, 'way': 361, 'production': 362, 'all': 363, 'excellent': 364, 'live': 365, 'final': 366, 'scene': 367, 'credible': 368, 'common': 369, 'brought': 370, 'life': 371, 'awesome': 372, 'element': 373, 'answers': 374, 'questions': 375, 'ending': 376, 'mysterious': 377, 'worth': 378, 'brings': 379, 'back': 380, 'disappointed': 381, 'attract': 382, 'feelings': 383, 'effective': 384, 'laugh': 385, 'cry': 386, 'will': 387, 'again': 388, 'meet': 389, 'standards': 390, 'astonishing': 391, 'captivates': 392, 'unfortunately': 393, 'quite': 394, 'pleased': 395, 'eyed': 396, 'movies': 397, 'exhilarating': 398, 'times': 399, 'unique': 400, 'resonates': 401, 'absolutely': 402, 'struggles': 403, 'blowing': 404, 'keep': 405, 'lacks': 406, 'conviction': 407, 'immersive': 408, 'enriched': 409, 'interpretation': 410, 'struggle': 411, 'major': 412, 'awaits': 413, 'opportunity': 414, 'unfolds': 415, 'powerful': 416, 'punch': 417, 'elevated': 418, 'yet': 419, 'bringing': 420, 'showcasing': 421, 'solid': 422, 'addition': 423, 'typical': 424, 'significant': 425, 'achievement': 426, 'rich': 427, 'sacrifice': 428, 'elevate': 429, 'contributes': 430, 'viewing': 431, 'blends': 432, 'predecessors': 433, 'choices': 434, 'modern': 435, 'infusion': 436, 'into': 437, 'exploration': 438, 'introduces': 439, 'these': 440, 'pushes': 441, 'stumbles': 442, 'points': 443, 'underexplored': 444, 'standout': 445, 'feature': 446, 'resulting': 447, 'dazzles': 448, 'where': 449, 'threads': 450, 'climax': 451, 'complemented': 452, 'fates': 453, 'particularly': 454, 'portrayals': 455, 'add': 456, 'connection': 457, 'heroes': 458, 'heights': 459, 'resolution': 460, 'films': 461, 'others': 462, 'future': 463, 'developments': 464, 'levity': 465, 'versatility': 466, 'culmination': 467, 'level': 468, 'witty': 469, 'dedication': 470, 'what': 471, 'cinema': 472, 'enhances': 473, 'acting': 474, 'cohesive': 475, 'those': 476, 'forced': 477, 'challenges': 478, \"universe's\": 479, 'standing': 480, 'manages': 481, 'juggles': 482, 'pieces': 483, 'layers': 484, 'attempts': 485, 'fresh': 486, 'take': 487, 'finesse': 488, 'transitioning': 489, 'driven': 490, 'marks': 491, 'inconsistent': 492, 'unconvincing': 493, 'enriching': 494, 'characterizations': 495, 'best': 496, 'filmmakers': 497, 'managed': 498, 'shocks': 499, 'boring': 500, 'clichés': 501, 'amazed': 502, 'says': 503, 'dissatisfied': 504, 'realistic': 505, 'blew': 506, 'away': 507, 'entire': 508, 'solution': 509, \"doesn't\": 510, 'little': 511, 'confused': 512, 'lot': 513, 'power': 514, 'fairly': 515, 'line': 516, 'unable': 517, 'happy': 518, 'moved': 519, 'suspenseful': 520, 'my': 521, 'surprised': 522, 'extraordinary': 523, 'rather': 524, 'unbalanced': 525, 'touches': 526, 'second': 527, 'cliche': 528, 'fun': 529, 'standard': 530, 'delivered': 531, 'created': 532, 'brilliant': 533, 'made': 534, 'did': 535, 'manage': 536, 'carry': 537, 'rocking': 538, 'fascinated': 539, 'annoying': 540, 'aspect': 541, 'cliché': 542, 'enjoyable': 543, 'tones': 544, 'lines': 545, 'fail': 546, 'portray': 547, 'extremely': 548, 'teary': 549, 'balanced': 550, 'underwhelmed': 551, 'recommended': 552, 'spellbinding': 553, 'fusion': 554, 'dimension': 555, 'fascinating': 556, 'anticipated': 557, 'areas': 558, 'you': 559, 'your': 560, 'seat': 561, 'delivery': 562, 'entirely': 563, 'genuinely': 564, 'evokes': 565, 'embody': 566, 'convincingly': 567, 'credibility': 568, 'gladly': 569, 'revisit': 570, 'impressively': 571, 'done': 572, 'fails': 573, 'puzzled': 574, 'being': 575, 'enjoy': 576, 'renders': 577, 'unpredictable': 578, 'packs': 579, 'heartwarming': 580, 'praiseworthy': 581, 'comprehend': 582, 'absence': 583, 'noticeable': 584, 'lingering': 585, 'extra': 586, 'intrigue': 587, 'absolute': 588, 'remembered': 589, 'years': 590, 'come': 591, 'takes': 592, 'found': 593, 'hit': 594, 'bond': 595, 'transcends': 596, 'undergo': 597, 'triumphant': 598, 'victories': 599, 'true': 600, 'exceeds': 601, 'exploring': 602, 'friendship': 603, 'resilience': 604, 'energy': 605, 'succeeds': 606, 'linger': 607, 'skillfully': 608, 'suspense': 609, 'developed': 610, 'adding': 611, 'newcomers': 612, 'alike': 613, 'wanting': 614, 'remain': 615, 'highlight': 616, 'alternate': 617, 'realities': 618, 'goes': 619, 'beyond': 620, 'fare': 621, 'delving': 622, 'transport': 623, 'otherworldly': 624, 'realms': 625, 'evolving': 626, 'landscape': 627, 'artistry': 628, 'maintaining': 629, 'consistent': 630, 'flow': 631, 'shortcomings': 632, 'choreography': 633, 'combine': 634, 'adrenaline': 635, 'pumping': 636, 'guessing': 637, 'ties': 638, 'installments': 639, 'perfection': 640, 'use': 641, 'senses': 642, 'overshadowed': 643, \"character's\": 644, 'contribution': 645, 'interconnected': 646, 'stories': 647, 'converge': 648, 'rounded': 649, 'organically': 650, 'favorite': 651, 'immerses': 652, 'world': 653, 'details': 654, 'landscapes': 655, 'vivid': 656, 'creativity': 657, 'skill': 658, 'cinephiles': 659, 'conveying': 660, 'nuanced': 661, 'commitment': 662, 'roles': 663, 'scratching': 664, 'heads': 665, 'coherence': 666, 'worthwhile': 667, 'towards': 668, 'masterstroke': 669, 'unpredictability': 670, 'spanned': 671, 'behold': 672, 'seamless': 673, 'locations': 674, 'excellence': 675, 'allows': 676, 'speculation': 677, 'ambiguity': 678, 'unanswered': 679, 'potential': 680, 'expertly': 681, 'portrayed': 682, 'necessary': 683, 'affecting': 684, 'generally': 685, 'instances': 686, 'could': 687, 'been': 688, 'minor': 689, 'flaw': 690, 'otherwise': 691, 'ensemble': 692, 'stands': 693, 'forging': 694, 'path': 695, 'scale': 696, 'intensity': 697, 'marked': 698, 'merits': 699, 'dangling': 700, 'yearning': 701, 'strengths': 702, 'lie': 703, 'dynamic': 704, 'comedic': 705, 'welcome': 706, 'respite': 707, 'gravity': 708, 'catering': 709, 'diverse': 710, 'during': 711, 'achievable': 712, 'chemistry': 713, 'among': 714, 'invest': 715, 'superheroes': 716, \"ensemble's\": 717, 'skewed': 718, 'overshadow': 719, 'harmonious': 720, 'even': 721, 'further': 722, 'incorporation': 723, 'nostalgia': 724, 'callbacks': 725, 'references': 726, 'continuity': 727, 'within': 728, 'treat': 729, 'followed': 730, 'franchise': 731, 'inception': 732, 'blending': 733, 'satisfyingly': 734, 'concluded': 735, 'groundbreaking': 736, 'entry': 737, 'face': 738, 'push': 739, 'them': 740, 'limits': 741, 'maximum': 742, 'unparalleled': 743, 'explores': 744, 'loss': 745, 'camaraderie': 746, 'issues': 747, 'substance': 748, 'taking': 749, 'center': 750, 'stage': 751, 'pushing': 752, 'can': 753, 'achieved': 754, 'meticulous': 755, 'left': 756, 'unresolved': 757, 'gripping': 758, 'giving': 759, 'moment': 760, 'shine': 761, 'monumental': 762, 'filled': 763, 'designs': 764, 'decade': 765, 'resonate': 766, 'finale': 767, 'strength': 768, 'weakness': 769, 'overwhelmed': 770, 'nonetheless': 771, 'lightheartedness': 772, 'captured': 773, 'hearts': 774, 'worldwide': 775, 'tie': 776, 'divided': 777, 'offering': 778, 'navigates': 779, 'octane': 780, 'underdeveloped': 781, 'felt': 782, 'tug': 783, 'heartstrings': 784, 'poignancy': 785, 'iconic': 786, 'few': 787, 'hiccups': 788, 'defined': 789, 'scope': 790, 'evident': 791, 'grandiose': 792, 'keen': 793, 'become': 794, 'cultural': 795, 'icons': 796, 'eyes': 797, 'explosion': 798, 'choreographed': 799, 'work': 800, 'harmony': 801, 'achievements': 802, 'facing': 803, 'wide': 804, 'range': 805, 'masterful': 806, 'sad': 807, 'expression': 808, 'entertain': 809, 'adventure': 810, 'chaos': 811, 'dizziness': 812, 'simple': 813, 'perfect': 814}\n"
     ]
    }
   ],
   "source": [
    "reviews = df['Review']\n",
    "tokenizer = Tokenizer()\n",
    "tokenizer.fit_on_texts(reviews)\n",
    "print(tokenizer.word_index)"
   ]
  },
  {
   "cell_type": "code",
   "execution_count": 50,
   "metadata": {},
   "outputs": [
    {
     "name": "stdout",
     "output_type": "stream",
     "text": [
      "Vocab size: 815\n"
     ]
    }
   ],
   "source": [
    "vocab_size = len(tokenizer.word_index) + 1  # index 0 is reserved for padding\n",
    "print(f'Vocab size: {vocab_size}')"
   ]
  },
  {
   "cell_type": "code",
   "execution_count": 51,
   "metadata": {},
   "outputs": [
    {
     "name": "stdout",
     "output_type": "stream",
     "text": [
      "[[8, 19, 6, 68], [50, 9, 4, 2, 118, 10], [30, 263, 1, 54, 264, 173, 77, 496, 38], [39, 265], [2, 58, 4, 20, 78], [147, 128], [1, 497, 498, 5, 266, 23, 267, 26], [356, 36], [30, 92, 9, 31, 4, 499], [212, 2, 174, 30, 268], [14, 105, 69, 129, 1, 19], [43, 44], [11, 13, 6, 106, 4, 500], [30, 92, 501], [1, 357, 3, 119, 120, 45, 6, 59, 43], [14, 46], [8, 7, 6, 358, 15, 93, 20, 359], [60, 23, 213, 24, 26], [14, 269, 502], [14, 360, 8, 19, 6, 39, 94, 270, 94, 28, 503], [214, 504], [36, 9, 4, 2, 10, 175, 3, 271], [1, 17, 176, 3, 8, 19, 6, 36], [47, 69], [14, 148, 46, 1, 361, 1, 272, 215, 79, 1, 149], [150, 273], [216, 61, 59, 43, 78], [9, 31, 21, 16, 30, 217, 4, 274], [39, 505], [8, 19, 147, 506, 95, 507], [14, 105, 121, 15, 1, 508, 362], [1, 62, 151, 2, 68, 107], [14, 85, 8, 51], [14, 148, 275, 1, 10, 3, 8, 19], [30, 58], [130, 131, 12, 1, 10], [152, 9, 129, 1, 7], [17, 18, 16, 68, 61, 1, 10, 6, 150, 43], [14, 80, 218], [36, 9, 31], [14, 80, 69, 363, 1, 122], [30, 263, 1, 10, 3, 8, 19, 6, 30, 132], [153, 6, 154, 276, 509], [14, 85, 70, 8, 19, 219, 220, 15, 9], [59, 128], [1, 17, 176, 4, 96, 18, 3, 8, 7, 16, 155], [14, 269, 121], [1, 54, 151, 364, 38], [14, 46, 1, 78], [8, 19, 6, 59, 106], [510, 365, 177, 5, 1, 277], [2, 216, 61, 43, 10], [33, 366, 367], [30, 268, 9, 31], [30, 92, 96, 18], [14, 148, 275, 1, 52, 12, 1, 10], [2, 511, 512], [8, 19, 6, 147, 20], [14, 46, 28, 2, 513], [1, 17, 18, 3, 8, 19, 16, 36], [69, 63, 1, 221, 178], [1, 133, 3, 25, 97, 179, 8, 7, 98], [278], [47, 69, 108, 70, 8, 19, 222, 119, 120, 45], [43, 10, 4, 175, 3, 271], [14, 46, 1, 52, 12, 1, 51], [8, 7, 123, 68, 20, 514], [180], [1, 215, 151, 23, 278, 107], [39, 368], [2, 515, 369, 51, 516, 61, 370, 5, 371, 15, 68, 9], [2, 59, 33, 366, 367], [47, 69, 108, 1, 27, 3, 8, 223], [14, 85, 1, 25, 97], [14, 148, 46, 181, 58, 134], [517, 5, 224], [59, 518, 15, 8, 19], [372, 9], [2, 216, 61, 59, 43, 10], [130, 131, 124, 1, 55], [1, 17, 18, 3, 8, 19, 16, 147, 36], [1, 93, 214, 12, 8, 19, 519, 95], [1, 133, 3, 279, 12, 1, 10, 218, 95], [153, 6, 154, 373, 3, 131], [8, 7, 135, 374, 5, 92, 375], [14, 46, 1, 52], [130, 131, 12, 1, 280, 3, 1, 19], [50, 9], [1, 17, 18, 4, 136, 3, 8, 7, 16, 36], [121], [14, 46, 1, 376, 3, 1, 51], [8, 19, 105, 39, 94, 270, 94, 14, 225], [520, 9, 129, 1, 7], [14, 85, 70, 8, 19, 219, 9, 15, 220, 45], [2, 216, 4, 377, 10], [59, 43], [1, 272, 54, 173, 213, 38], [14, 46, 1, 25], [8, 19, 105, 106, 4, 39, 378, 521, 122], [30, 369], [1, 130, 52, 124, 1, 55, 3, 1, 19, 522, 95], [85, 1, 10, 52], [1, 17, 18, 4, 362, 281, 3, 8, 7, 16, 523], [1, 54, 151, 23, 36, 107], [50, 9, 61, 1, 10, 6, 524, 98], [525], [47, 69, 108, 70, 8, 19, 379, 380, 45, 48, 1, 182, 19], [8, 19, 6, 372], [152, 9, 4, 23, 43, 10], [14, 105, 381, 15, 1, 107, 3, 1, 54], [2, 51, 21, 526, 1, 156, 4, 6, 175, 3, 109], [8, 19, 135, 23, 36, 26], [30, 92, 9, 31, 4, 212, 282], [30, 217], [14, 269, 69, 108, 283, 527, 3, 8, 19], [11, 13, 6, 106, 4, 30, 528], [39, 529], [14, 85, 70, 8, 19, 222, 119, 120, 45], [382], [8, 19, 6, 147, 81, 15, 93, 383], [23, 267, 24, 26], [14, 360, 8, 19, 6, 39, 177, 5, 1, 225, 530], [69, 108, 1, 96, 18], [14, 105, 39, 265, 15, 1, 361, 1, 272, 215, 531, 1, 149], [217, 4, 384, 9, 31], [8, 7, 6, 152, 15, 1, 226, 532], [1, 54, 151, 2, 533, 107], [50, 9, 363, 1, 122], [23, 132, 4, 150, 64, 10], [14, 264, 46, 70, 8, 19, 157], [8, 19, 534, 95, 385, 4, 386], [85, 1, 214, 284], [1, 215, 535, 39, 536, 5, 537, 1, 25, 183], [150, 368], [60, 8, 19, 6, 68], [14, 387, 99, 28, 388], [69, 108, 1, 27, 3, 8, 223], [153, 6, 154, 276, 100], [1, 17, 18, 4, 136, 3, 8, 19, 16, 36], [130, 52, 124, 1, 55], [8, 19, 6, 43, 4, 135, 2, 93, 26], [1, 62, 151, 23, 213, 107], [8, 19, 6, 538], [36, 9, 4, 36, 10], [2, 377, 4, 93, 78], [14, 105, 539], [30, 92, 4, 282, 9, 31], [212, 540], [14, 105, 121, 15, 283, 541, 3, 8, 19], [150, 276], [8, 19, 6, 147, 81, 15, 93, 20, 359], [118, 9, 4, 2, 10, 175, 3, 271], [2, 58, 61, 59, 43, 78], [8, 19, 6, 36], [1, 9, 6, 86, 4, 1, 10, 6, 137], [47, 381, 15, 1, 285, 107], [39, 64], [1, 78, 6, 180, 4, 175, 3, 227], [14, 85, 28], [8, 19, 79, 23, 71, 26], [87, 138], [30, 92, 9, 31, 212, 282], [47, 184, 129, 1, 19], [88, 44], [11, 13, 6, 106, 4, 30, 542], [39, 543], [14, 46, 70, 8, 19, 219, 45, 3, 119, 120], [43], [8, 7, 6, 87, 81, 15, 93, 20, 544], [2, 24, 26, 21, 6, 267], [47, 121], [14, 80, 8, 19, 264, 389, 1, 225, 390], [1, 17, 176, 3, 8, 7, 6, 391], [69, 108, 37, 96, 18], [47, 39, 265, 15, 70, 1, 286, 54, 287, 77, 545], [39, 273], [1, 78, 6, 58, 61, 59, 43], [14, 46, 28], [217, 4, 185, 9, 31], [8, 7, 392, 15, 1, 226, 28, 228], [1, 54, 173, 364, 38], [14, 46, 8, 51], [14, 148, 275, 1, 10, 3, 8, 7], [2, 130, 131, 12, 1, 10], [50, 9, 129], [1, 17, 18, 3, 8, 7, 16, 87, 138], [23, 132, 157, 4, 186, 10], [154, 64, 27], [8, 7, 179, 95, 385, 4, 386], [85, 1, 109, 284], [1, 54, 546, 5, 547, 77, 40, 183], [60, 8, 7, 6, 68], [14, 288, 99, 28, 388], [71, 9, 31], [69, 108, 1, 289, 27], [393, 1, 10, 3, 8, 7, 6, 30, 132, 157], [154, 64, 100], [14, 46, 70, 8, 7, 219, 220, 15, 9], [187, 128], [1, 17, 18, 4, 136, 12, 8, 7, 16, 36], [1, 54, 173, 2, 59, 270, 107], [14, 46, 1, 51], [8, 7, 6, 59, 106], [39, 378, 1, 277], [58, 61, 59, 43, 10], [30, 92, 229, 1, 110, 9, 31], [2, 174, 230], [8, 7, 6, 43, 4, 135, 2, 93, 26], [1, 17, 18, 3, 8, 7, 16, 71], [69, 108, 1, 221, 188], [133, 3, 25, 97, 179, 8, 7, 98], [47, 184, 15, 70, 8, 7, 222, 45, 3, 119, 120], [43, 4, 118, 10], [85, 1, 52, 12, 1, 51], [8, 7, 123, 2, 68, 20, 111], [14, 46, 1, 25, 97], [1, 10, 6, 394, 231, 61, 370, 5, 371, 15, 68, 9], [23, 548, 33, 376], [184, 15, 1, 289, 27], [8, 7, 6, 68], [14, 148, 46, 1, 181, 58, 10], [290, 5, 224], [59, 395, 15, 8, 7], [36, 9], [1, 17, 18, 3, 8, 7, 16, 87, 391], [93, 20, 111, 12, 8, 7, 179, 95, 549, 396], [133, 3, 279, 12, 1, 10, 179, 95, 218], [154, 118, 45], [85, 1, 52], [2, 130, 131, 12, 1, 280, 3, 1, 7], [1, 17, 18, 4, 136, 12, 8, 7, 16, 87, 36], [1, 54, 173, 23, 71, 107], [50, 9, 61, 2, 158, 98, 10], [39, 550], [47, 184, 15, 70, 8, 7, 379, 380, 45, 48, 182, 397], [8, 7, 6, 2, 232], [1, 44, 6, 155, 4, 1, 38, 16, 71], [47, 551, 63, 1, 10, 72], [39, 94, 185, 94, 225], [1, 20, 56, 3, 1, 40, 4, 1, 88, 10, 159, 28, 2, 233, 99], [187, 552], [2, 24, 41], [1, 73, 16, 86, 4, 1, 22, 6, 553], [1, 291, 3, 9, 31, 6, 398], [2, 174, 189, 124, 399], [47, 292, 48, 293, 5, 294], [1, 44, 6, 160], [11, 13, 234, 82, 3, 295], [1, 78, 6, 30, 296], [1, 554, 3, 119, 120, 45, 112, 2, 400, 4, 137, 555], [556], [8, 7, 401, 15, 297, 109], [2, 87, 235, 26], [2, 17, 65, 21, 113, 2, 190, 298], [402, 152], [1, 7, 403, 5, 389, 1, 557, 390], [234, 236, 12, 57, 558], [1, 9, 32, 16, 299, 404, 4, 1, 10, 72, 405, 559, 83, 1, 237, 3, 560, 561], [1, 17, 176, 6, 110, 191, 42, 2, 17, 192, 49, 1, 66], [81, 96, 18], [1, 562, 3, 149, 63, 1, 286, 54, 406, 407], [39, 563, 273], [1, 84, 78, 112, 56, 5, 1, 22], [2, 564, 138, 26], [1, 9, 31, 16, 139, 4, 185], [57, 53, 161, 1, 96, 18, 274], [1, 7, 228, 23, 408, 226, 21, 6, 193, 138, 4, 89, 114], [81], [71, 38, 48, 1, 62], [1, 22, 6, 409, 15, 25, 97], [14, 161, 1, 10, 3, 8, 7, 5, 194, 181, 58], [2, 174, 290, 5, 224], [2, 118, 52, 12, 1, 10, 195, 1, 66, 196], [50, 48, 293, 5, 294], [1, 17, 18, 16, 101, 82, 3, 238], [87, 121], [1, 132, 157, 300, 3, 1, 10, 113, 301, 49, 410], [57, 53, 161, 28, 186], [8, 7, 565, 193, 302, 4, 303], [2, 115, 5, 37, 20, 125], [1, 54, 411, 5, 566, 77, 40, 567], [406, 568], [60, 1, 7, 6, 2, 68, 99], [14, 288, 569, 570, 28], [1, 9, 31, 16, 155], [1, 289, 27, 6, 101, 82, 3, 33], [393, 1, 10, 113, 30, 92, 304, 305], [1, 100, 6, 186], [14, 239, 1, 197, 3, 220, 4, 9, 42, 23, 128, 26], [1, 17, 18, 4, 136, 16, 87, 240, 241], [571, 572], [1, 62, 79, 162, 38], [1, 22, 6, 409, 15, 2, 160, 51], [8, 7, 6, 187, 106], [28, 573, 5, 365, 177, 5, 1, 277], [1, 10, 6, 84, 61, 187, 88], [2, 412, 52, 413, 124, 1, 55], [274, 229, 1, 110, 9, 31], [1, 291, 3, 96, 18, 53, 194, 189], [1, 52, 12, 1, 10, 113, 95, 574], [158, 230], [1, 7, 242, 2, 126, 102, 575, 137, 4, 89, 114], [14, 306, 576, 28], [1, 17, 18, 140, 2, 190, 111], [1, 221, 188, 6, 87, 81], [98, 25, 97, 577, 1, 7, 150, 64], [2, 307, 414], [47, 121, 15, 70, 1, 7, 222, 45, 3, 119, 120], [1, 10, 415, 15, 43, 72, 4, 163], [14, 239, 1, 578, 51], [8, 7, 579, 2, 416, 20, 417], [180, 4, 580], [1, 62, 79, 155, 38], [1, 25, 97, 6, 581], [34, 1, 10, 6, 158, 231, 1, 7, 6, 418, 63, 37, 308, 9, 32], [1, 33, 27, 6, 101, 82, 3, 50], [2, 64, 55, 5, 1, 223], [8, 7, 6, 71], [14, 239, 1, 183, 243, 25, 97], [14, 411, 5, 582, 1, 181, 58, 10], [356, 309, 5, 224], [47, 306, 395, 15, 8, 7], [1, 9, 6, 101, 82, 3, 36], [2, 58, 419, 88, 10], [2, 412, 131, 413, 124, 1, 55], [1, 17, 18, 16, 402, 71], [1, 93, 20, 111, 401, 129, 1, 7], [14, 161, 28, 87, 310], [1, 133, 3, 279, 12, 1, 10, 113, 95, 218], [1, 583, 3, 118, 45, 6, 584], [1, 7, 374, 92, 585, 375], [1, 10, 52, 112, 23, 586, 244, 3, 587], [2, 118, 52, 12, 1, 280, 3, 1, 7, 195, 1, 66, 83, 1, 237, 3, 77, 311], [1, 17, 18, 4, 136, 16, 87, 36], [47, 306, 121], [1, 62, 79, 71, 38], [47, 292, 63, 1, 51], [1, 9, 6, 50, 61, 1, 10, 198, 158, 98], [1, 126, 6, 39, 394, 153], [47, 184, 63, 70, 1, 7, 312, 45, 48, 182, 397], [11, 13, 6, 23, 588, 232], [1, 7, 127, 141, 142, 2, 58, 419, 88, 22, 245, 246, 83, 1, 237, 3, 77, 311], [1, 38, 48, 1, 62, 16, 308, 420, 20, 56, 5, 1, 40], [1, 17, 18, 16, 101, 82, 3, 86, 42, 2, 24, 26, 21, 387, 194, 589, 49, 590, 5, 591], [34, 1, 10, 3, 11, 13, 592, 199, 163, 14, 593, 57, 3, 1, 72, 5, 194, 247], [1, 7, 103, 248, 15, 67, 74, 32, 4, 81, 9, 31], [1, 20, 35, 594, 290, 421, 1, 595, 102, 1, 40], [60, 2, 422, 423, 5, 1, 41, 24, 116], [8, 7, 596, 1, 424, 90, 200, 201, 2, 297, 4, 89, 114, 51], [1, 40, 597, 425, 97, 4, 1, 10, 6, 193, 84, 4, 313, 314], [11, 13, 6, 2, 164, 3, 109, 48, 156, 315, 35, 5, 598, 599], [2, 600, 24, 426], [11, 13, 6, 2, 24, 41, 21, 601, 295], [1, 22, 6, 427, 15, 56, 602, 316, 3, 428, 603, 4, 604], [1, 17, 65, 6, 240, 241, 15, 165, 249, 250, 243], [1, 38, 3, 1, 62, 429, 1, 7, 202, 28, 2, 117, 27, 5, 1, 33, 75], [1, 29, 291, 3, 9, 31, 430, 5, 2, 317, 605, 431, 26, 61, 124, 399, 28, 198, 2, 174, 189], [143, 8, 11, 13, 606, 12, 201, 2, 64, 4, 20, 27, 5, 1, 203, 251], [1, 96, 18, 16, 110, 191, 42, 204, 73, 21, 607, 12, 1, 299], [14, 105, 292, 48, 293, 5, 294, 63, 1, 44, 178, 3, 11, 13], [1, 7, 608, 432, 609, 205, 4, 156, 42, 2, 22, 21, 195, 1, 66, 318], [1, 203, 104, 16, 183, 610, 611, 20, 319, 5, 1, 60, 51], [2, 233, 99, 49, 166, 4, 612, 613], [11, 13, 234, 82, 3, 1, 317, 295, 252, 63, 37, 433], [34, 1, 7, 123, 37, 35, 1, 10, 198, 158, 296, 4, 76, 25, 434, 53, 140, 166, 614, 253], [1, 17, 18, 103, 615, 2, 616, 421, 1, 254, 178, 3, 435, 144], [1, 436, 3, 119, 120, 45, 437, 11, 13, 112, 23, 137, 244, 5, 1, 22], [1, 438, 3, 122, 255, 4, 617, 618, 439, 145, 5, 1, 10, 256, 257, 196], [1, 7, 167, 320, 440, 45, 42, 2, 400, 4, 313, 314, 90, 26], [8, 7, 619, 620, 424, 90, 621, 622, 437, 1, 20, 403, 3, 1, 40], [1, 56, 3, 227, 284, 63, 1, 62, 6, 162, 202, 11, 13, 2, 180, 4, 204, 24, 206], [1, 84, 10, 141, 142, 321, 134, 168, 2, 64, 27, 5, 1, 322, 22], [11, 13, 6, 2, 17, 65, 21, 441, 1, 323, 3, 144], [1, 96, 18, 16, 101, 82, 3, 152, 42, 86, 31, 21, 623, 1, 66, 5, 624, 625], [1, 29, 221, 188, 6, 2, 115, 5, 1, 626, 627, 3, 24, 628], [34, 11, 13, 123, 37, 35, 3, 188, 28, 442, 12, 629, 2, 630, 22, 631], [57, 10, 443, 80, 207, 245, 76, 25, 104, 444], [143, 440, 632, 1, 7, 79, 83, 1, 65, 15, 9, 32, 21, 140, 2, 190, 298], [1, 9, 32, 12, 11, 13, 16, 101, 82, 3, 299, 404], [1, 633, 4, 17, 18, 634, 5, 258, 23, 635, 636, 26], [1, 10, 72, 4, 163, 405, 1, 66, 637, 4, 1, 7, 167, 638, 177, 304, 305, 48, 182, 639], [2, 64, 423, 5, 1, 41, 75], [1, 17, 176, 3, 11, 13, 6, 2, 445, 446, 15, 165, 249, 250, 243, 5, 640], [1, 169, 5, 146, 12, 1, 96, 18, 324, 1, 7, 42, 2, 67, 74, 232], [1, 641, 3, 259, 127, 432, 15, 260, 18, 447, 12, 2, 24, 26, 21, 448, 1, 642], [34, 1, 286, 54, 287, 162, 38, 153, 16, 35, 449, 1, 149, 234, 236], [1, 20, 261, 16, 325, 643, 63, 1, 326, 3, 1, 9, 32], [143, 8, 1, 203, 251, 4, 1, 29, 322, 316, 140, 2, 190, 111], [1, 145, 3, 1, 78, 12, 11, 13, 112, 56, 5, 1, 60, 22], [1, 7, 141, 142, 170, 450, 168, 2, 427, 4, 88, 26], [165, 644, 645, 5, 1, 10, 6, 425, 42, 2, 327, 3, 646, 647, 21, 648, 12, 2, 64, 451], [1, 7, 242, 2, 126, 102, 139, 9, 31, 4, 89, 328, 35], [1, 17, 65, 6, 452, 63, 25, 97, 202, 11, 13, 2, 183, 649, 24, 26], [1, 22, 415, 650, 256, 257, 318, 12, 1, 453, 3, 77, 651, 40], [11, 13, 652, 1, 66, 12, 2, 67, 74, 653, 48, 1, 84, 654, 3, 252, 281, 5, 1, 86, 655], [1, 29, 171, 5, 258, 2, 656, 4, 408, 226, 6, 2, 115, 5, 1, 657, 4, 658, 3, 1, 144, 329], [2, 17, 192, 49, 659], [1, 38, 3, 1, 62, 12, 11, 13, 16, 71, 454, 12, 660, 1, 20, 319, 3, 1, 203, 251], [1, 661, 455, 456, 56, 5, 1, 22, 42, 2, 330, 3, 457, 102, 1, 66, 4, 1, 458], [2, 115, 5, 1, 285, 662, 5, 77, 663], [34, 1, 322, 10, 3, 11, 13, 6, 331, 28, 325, 198, 181, 58], [57, 22, 434, 53, 140, 257, 664, 77, 665, 332, 1, 60, 666, 3, 1, 51], [143, 8, 1, 29, 20, 125, 4, 74, 73, 159, 28, 2, 667, 99], [1, 52, 12, 11, 91, 10, 454, 668, 1, 55, 6, 2, 669, 21, 324, 1, 7, 5, 333, 459], [1, 199, 163, 456, 2, 244, 3, 670, 256, 1, 66, 196], [1, 460, 3, 25, 104, 6, 64, 168, 100, 5, 2, 75, 21, 123, 671, 170, 461], [1, 17, 18, 12, 11, 13, 16, 2, 65, 5, 672], [1, 673, 357, 3, 259, 4, 260, 18, 228, 2, 17, 192, 49, 246], [1, 169, 5, 146, 12, 1, 281, 3, 40, 674, 4, 9, 32, 430, 5, 1, 29, 60, 17, 675], [1, 132, 157, 300, 3, 11, 91, 10, 676, 49, 410, 4, 677], [34, 57, 53, 239, 1, 678, 462, 53, 161, 28, 113, 30, 268, 679], [1, 7, 113, 301, 49, 680, 463, 464, 12, 1, 41, 24, 116], [11, 13, 681, 320, 35, 3, 465, 4, 156, 315, 227], [1, 29, 171, 5, 334, 302, 4, 303, 208, 37, 466, 12, 44], [1, 20, 56, 3, 1, 40, 6, 682, 15, 335, 42, 2, 457, 15, 1, 66], [1, 285, 455, 12, 11, 13, 325, 133, 1, 683, 407, 684, 1, 60, 111, 3, 76, 31], [34, 1, 38, 16, 685, 422, 153, 16, 686, 449, 1, 20, 261, 687, 209, 688, 253, 114], [2, 689, 690, 12, 23, 691, 81, 692, 62], [60, 11, 13, 693, 94, 2, 115, 5, 1, 467, 3, 2, 24, 206], [1, 7, 127, 141, 142, 2, 22, 21, 336, 337, 5, 37, 433, 34, 694, 2, 333, 695], [1, 20, 125, 4, 33, 696, 159, 28, 2, 117, 27, 5, 1, 41, 24, 116], [1, 9, 32, 12, 11, 13, 16, 155, 201, 2, 468, 3, 697, 21, 195, 246, 83, 1, 237, 3, 77, 311], [1, 467, 3, 1, 223, 6, 698, 63, 338, 339, 35, 4, 2, 330, 3, 326], [2, 233, 99, 49, 166, 3, 1, 90, 200], [143, 37, 699, 11, 13, 113, 76, 10, 450, 700, 447, 12, 23, 186, 27, 49, 57, 40], [1, 132, 157, 300, 3, 76, 104, 53, 140, 166, 701, 49, 253, 100], [103, 1, 29, 702, 703, 12, 37, 17, 65, 4, 20, 125], [1, 436, 3, 205, 4, 9, 12, 11, 13, 228, 2, 704, 4, 128, 26], [1, 469, 149, 4, 705, 35, 266, 2, 706, 707, 48, 1, 139, 9, 32], [1, 7, 242, 2, 126, 102, 708, 4, 465, 709, 5, 2, 710, 66], [1, 17, 18, 4, 136, 12, 11, 13, 16, 101, 82, 3, 240, 241], [1, 468, 3, 146, 12, 165, 249, 340, 711, 9, 32, 208, 1, 470, 3, 1, 144, 329], [2, 254, 41, 21, 441, 1, 323, 3, 471, 6, 712, 12, 472], [1, 62, 3, 11, 13, 79, 162, 38, 420, 56, 4, 335, 5, 77, 40], [1, 713, 714, 1, 54, 473, 1, 20, 125, 3, 1, 7, 202, 1, 66, 715, 12, 1, 453, 3, 1, 716], [2, 115, 5, 1, 717, 474, 178], [34, 11, 13, 123, 37, 35, 3, 188, 1, 126, 102, 50, 9, 4, 2, 475, 10, 198, 158, 718], [57, 9, 31, 53, 719, 1, 22, 332, 1, 60, 210], [2, 253, 720, 197, 288, 209, 418, 1, 7, 721, 722], [1, 723, 3, 45, 48, 182, 461, 12, 11, 13, 112, 2, 244, 3, 724, 49, 341, 122, 166], [1, 725, 4, 726, 258, 2, 330, 3, 727, 728, 1, 41, 24, 116], [2, 729, 49, 476, 342, 209, 730, 1, 731, 48, 37, 732], [11, 13, 6, 2, 24, 343, 127, 733, 9, 227, 4, 65], [1, 25, 104, 16, 734, 735, 4, 1, 17, 18, 16, 101, 82, 3, 736], [34, 1, 29, 9, 32, 16, 50, 57, 10, 72, 80, 477, 4, 76, 25, 464, 133, 56], [344, 1, 17, 326, 4, 20, 125, 159, 28, 2, 204, 737, 12, 1, 41, 116], [1, 84, 10, 141, 142, 170, 345, 42, 2, 22, 327, 21, 195, 1, 66, 196], [1, 308, 38, 48, 1, 62, 4, 1, 338, 339, 73, 159, 11, 13, 23, 33, 27, 5, 1, 75], [11, 13, 79, 83, 1, 346, 3, 23, 20, 164], [1, 40, 738, 478, 21, 739, 740, 5, 77, 741, 4, 1, 7, 167, 320, 205, 15, 156, 315, 35], [2, 117, 4, 67, 74, 55, 5, 1, 41, 24, 479, 211, 75], [34, 1, 7, 135, 100, 5, 341, 480, 134, 76, 25, 104, 80, 207, 4, 444], [1, 9, 32, 103, 16, 2, 65, 15, 165, 249, 250, 243, 49, 742, 111], [11, 13, 6, 2, 347, 348, 5, 349, 40, 4, 23, 172], [1, 20, 56, 3, 11, 13, 6, 743, 12, 1, 90, 200], [1, 7, 744, 316, 3, 745, 428, 4, 746, 202, 28, 2, 350, 4, 114, 26], [1, 155, 38, 48, 1, 62, 429, 1, 22, 5, 333, 459], [143, 37, 331, 22, 11, 13, 442, 15, 210, 747, 245, 57, 35, 214, 207], [103, 1, 7, 248, 15, 86, 73, 4, 33, 9, 32, 168, 2, 50, 24, 26], [1, 122, 255, 373, 112, 145, 5, 1, 10, 42, 23, 84, 4, 313, 314, 22], [11, 13, 481, 5, 287, 193, 65, 4, 748, 15, 1, 203, 20, 251, 749, 750, 751], [2, 235, 27, 5, 1, 41, 24, 116], [11, 91, 17, 18, 16, 2, 254, 41, 752, 1, 323, 3, 471, 753, 194, 754, 12, 472], [1, 29, 755, 169, 5, 146, 340, 12, 1, 9, 32, 208, 1, 470, 3, 1, 144, 329], [2, 17, 65, 21, 113, 2, 190, 298], [34, 1, 7, 135, 100, 5, 57, 25, 104, 76, 10, 443, 16, 756, 757, 245, 301, 49, 463, 438], [11, 13, 103, 351, 12, 201, 240, 241, 9, 4, 20, 125], [2, 347, 348, 5, 23, 172, 3, 90, 44], [1, 29, 9, 352, 32, 16, 2, 17, 192, 452, 63, 2, 758, 78], [11, 13, 167, 482, 170, 40, 759, 165, 2, 760, 5, 761], [2, 762, 27, 5, 1, 211, 75, 763, 15, 72, 4, 163], [11, 91, 259, 4, 260, 18, 127, 197, 5, 258, 2, 67, 74, 26], [1, 29, 169, 5, 146, 48, 25, 764, 5, 252, 483, 6, 162], [2, 24, 65, 21, 336, 337, 5, 2, 765, 3, 41, 44], [34, 1, 29, 20, 261, 766, 76, 35, 53, 80, 477, 332, 1, 60, 335], [344, 11, 13, 79, 83, 1, 346, 3, 23, 33, 27, 15, 204, 9, 32, 4, 2, 67, 262, 767], [1, 145, 3, 11, 91, 22, 6, 193, 37, 768, 4, 769], [34, 57, 53, 161, 1, 84, 10, 88, 462, 53, 80, 770, 63, 37, 484], [771, 1, 29, 20, 111, 4, 86, 73, 159, 28, 2, 160, 99], [11, 13, 242, 2, 126, 102, 205, 4, 156, 15, 469, 149, 4, 350, 25, 35], [1, 29, 171, 5, 197, 772, 15, 139, 9, 6, 2, 115, 5, 37, 44, 178], [2, 117, 55, 5, 2, 24, 75, 21, 123, 773, 1, 774, 3, 246, 775], [34, 1, 7, 485, 5, 776, 177, 304, 305, 76, 25, 353, 53, 140, 166, 777], [11, 13, 103, 351, 12, 201, 33, 354, 4, 338, 339, 73], [2, 233, 99, 49, 476, 342, 209, 318, 12, 1, 41, 24, 116], [1, 122, 255, 22, 12, 11, 13, 112, 145, 4, 56, 778, 2, 486, 487, 83, 1, 90, 200], [1, 7, 779, 102, 321, 345, 15, 488, 42, 2, 475, 4, 88, 22], [2, 50, 4, 89, 328, 27, 5, 1, 211, 75], [11, 91, 210, 6, 2, 343, 127, 489, 102, 317, 780, 9, 4, 25, 490, 35], [1, 29, 171, 5, 334, 302, 4, 303, 208, 37, 466], [2, 235, 426, 12, 24, 44], [34, 11, 13, 135, 100, 5, 57, 134, 76, 25, 104, 80, 781], [1, 7, 103, 248, 15, 33, 354, 4, 74, 73], [2, 164, 3, 109, 21, 355, 94, 2, 117, 55, 5, 23, 172, 3, 90, 44], [1, 20, 319, 3, 11, 91, 22, 6, 782, 129, 15, 25, 104, 21, 783, 124, 1, 784], [1, 7, 167, 141, 142, 205, 9, 4, 785], [2, 24, 65, 21, 336, 337, 5, 1, 206, 3, 786, 40], [143, 2, 787, 22, 788, 11, 13, 79, 83, 1, 346, 3, 23, 33, 27], [1, 29, 17, 18, 16, 101, 82, 3, 86, 42, 2, 24, 26, 21, 448], [2, 117, 55, 5, 2, 75, 21, 123, 789, 1, 90, 200], [1, 29, 331, 790, 6, 791, 12, 37, 792, 9, 32, 4, 84, 10, 72], [11, 13, 167, 482, 170, 134, 168, 100, 5, 349, 40], [2, 67, 74, 4, 89, 114, 33, 21, 491, 1, 55, 3, 23, 172], [34, 11, 13, 6, 2, 17, 65, 76, 10, 72, 53, 80, 296, 5, 793, 396, 257], [344, 1, 7, 79, 83, 20, 125, 4, 33, 9, 32], [2, 347, 348, 5, 40, 342, 209, 794, 795, 796], [1, 122, 255, 22, 3, 11, 13, 439, 23, 137, 145, 5, 1, 10], [1, 7, 481, 5, 126, 170, 345, 34, 256, 1, 66, 196], [2, 64, 4, 67, 81, 27, 5, 1, 41, 24, 479, 211, 75], [11, 91, 9, 32, 16, 2, 192, 49, 1, 797, 15, 283, 417, 4, 798, 250, 799], [1, 29, 169, 5, 146, 340, 12, 1, 17, 18, 324, 1, 431, 26], [2, 50, 4, 67, 74, 27, 5, 1, 41, 24, 116], [34, 1, 7, 79, 83, 20, 261, 76, 25, 353, 53, 80, 207], [11, 13, 103, 351, 12, 42, 33, 4, 204, 9, 32], [2, 164, 3, 109, 21, 355, 94, 2, 117, 55, 5, 1, 211, 75], [1, 29, 84, 10, 112, 484, 3, 145, 168, 2, 486, 487, 83, 90, 44], [11, 13, 127, 141, 142, 321, 134, 42, 2, 22, 327, 21, 392], [2, 67, 262, 4, 89, 328, 27, 5, 2, 24, 172], [11, 91, 259, 4, 260, 18, 800, 12, 801, 42, 2, 67, 74, 24, 26], [1, 169, 5, 146, 12, 1, 17, 18, 473, 1, 29, 60, 111], [2, 115, 5, 1, 254, 802, 12, 435, 144], [34, 11, 13, 485, 5, 266, 100, 5, 341, 480, 134, 57, 353, 53, 80, 207], [1, 7, 103, 248, 15, 33, 354, 4, 67, 74, 252, 483], [2, 164, 3, 109, 21, 491, 1, 55, 3, 2, 235, 172, 12, 90, 144], [1, 20, 56, 3, 11, 91, 22, 6, 2, 445, 446, 15, 40, 803, 297, 478], [1, 29, 171, 5, 126, 139, 9, 15, 350, 35, 6, 162], [2, 117, 4, 89, 114, 27, 5, 1, 41, 24, 116], [1, 29, 210, 6, 2, 115, 5, 37, 44, 488, 127, 489, 102, 9, 352, 32, 4, 25, 490, 35], [11, 91, 171, 5, 334, 2, 804, 805, 3, 109, 208, 37, 22, 56], [2, 24, 343, 21, 355, 94, 2, 117, 55, 5, 2, 349, 75], [232], [238], [20], [33], [50], [160], [247], [137], [180], [152], [236], [398], [81], [492], [86], [71], [58], [118], [186], [310], [213], [98], [189], [230], [110, 191], [106], [309], [139], [307], [128], [229, 1, 110], [52], [262], [231], [36], [88], [493], [494], [185], [312], [9, 352], [89, 416], [64, 27], [33, 206], [67, 74], [84, 10], [199, 72], [247, 35], [25, 56], [86, 73], [236, 22], [187, 88], [81, 18], [492, 210], [160, 51], [71, 38], [98, 495], [68, 99], [189, 9], [230, 72], [138, 44], [110, 191, 18], [106, 460], [309, 22], [139, 32], [81, 73], [307, 414], [128, 197], [229, 1, 110, 35], [10, 52], [262, 73], [231, 10], [36, 9], [89, 114], [58, 22], [493, 474], [494, 78], [185, 35], [137, 72], [310, 31], [98, 451], [312, 45], [199, 163], [238, 18], [806, 44], [33, 27, 5, 41, 75], [20, 164, 15, 458], [238, 73, 4, 44], [50, 9, 64, 25, 104], [67, 74, 89, 114, 206], [160, 51, 71, 38], [84, 10, 199, 72], [247, 35, 98, 495], [86, 73, 88, 22], [110, 191, 18, 138, 44], [68], [382], [807], [808, 3, 383], [109], [809], [278], [358], [23, 33, 810], [811], [138], [812], [384], [813, 4, 263], [814]]\n"
     ]
    }
   ],
   "source": [
    "tokenised_reviews = tokenizer.texts_to_sequences(reviews)\n",
    "print(tokenised_reviews)"
   ]
  },
  {
   "cell_type": "markdown",
   "metadata": {},
   "source": [
    "## F. Padding"
   ]
  },
  {
   "cell_type": "code",
   "execution_count": 52,
   "metadata": {},
   "outputs": [
    {
     "name": "stdout",
     "output_type": "stream",
     "text": [
      "Longest review: [1, 29, 171, 5, 258, 2, 656, 4, 408, 226, 6, 2, 115, 5, 1, 657, 4, 658, 3, 1, 144, 329]\n",
      "Length: 22\n"
     ]
    }
   ],
   "source": [
    "longest_review = max(tokenised_reviews, key=len)\n",
    "longest_length = len(longest_review)\n",
    "print(f'Longest review: {longest_review}')\n",
    "print(f'Length: {longest_length}')"
   ]
  },
  {
   "cell_type": "code",
   "execution_count": 53,
   "metadata": {},
   "outputs": [
    {
     "data": {
      "text/plain": [
       "(640, 22)"
      ]
     },
     "execution_count": 53,
     "metadata": {},
     "output_type": "execute_result"
    }
   ],
   "source": [
    "tokenised_reviews = pad_sequences(tokenised_reviews, maxlen=longest_length, padding='post')  # add 0s behind\n",
    "tokenised_reviews.shape"
   ]
  },
  {
   "cell_type": "markdown",
   "metadata": {},
   "source": [
    "## G. Train Test Validation Split"
   ]
  },
  {
   "cell_type": "code",
   "execution_count": 54,
   "metadata": {},
   "outputs": [
    {
     "data": {
      "text/plain": [
       "(640,)"
      ]
     },
     "execution_count": 54,
     "metadata": {},
     "output_type": "execute_result"
    }
   ],
   "source": [
    "sentiment = df['Negative'].values\n",
    "sentiment.shape"
   ]
  },
  {
   "cell_type": "markdown",
   "metadata": {},
   "source": [
    "We will do a 70-15-15 split for the train, test and validation datasets respectively as we do not have a lot of data. We will also use stratified sampling to ensure that the distribution of the classes are the same across all datasets as the dataset is imbalanced"
   ]
  },
  {
   "cell_type": "code",
   "execution_count": 55,
   "metadata": {},
   "outputs": [],
   "source": [
    "X_train, X_test, y_train, y_test = train_test_split(tokenised_reviews, sentiment, stratify=sentiment, test_size=0.3, random_state=42)\n",
    "X_val, X_test, y_val, y_test = train_test_split(X_test, y_test, stratify=y_test, test_size=0.5, random_state=42)"
   ]
  },
  {
   "cell_type": "code",
   "execution_count": 56,
   "metadata": {},
   "outputs": [
    {
     "name": "stdout",
     "output_type": "stream",
     "text": [
      "Shape of X_train: (448, 22)\n",
      "Shape of y_train: (448,)\n",
      "Shape of X_val: (96, 22)\n",
      "Shape of y_val: (96,)\n",
      "Shape of X_test: (96, 22)\n",
      "Shape of y_test: (96,)\n"
     ]
    }
   ],
   "source": [
    "print(f'Shape of X_train: {X_train.shape}')\n",
    "print(f'Shape of y_train: {y_train.shape}')\n",
    "print(f'Shape of X_val: {X_val.shape}')\n",
    "print(f'Shape of y_val: {y_val.shape}')\n",
    "print(f'Shape of X_test: {X_test.shape}')\n",
    "print(f'Shape of y_test: {y_test.shape}')"
   ]
  },
  {
   "cell_type": "markdown",
   "metadata": {},
   "source": [
    "## H. Class Weights"
   ]
  },
  {
   "cell_type": "code",
   "execution_count": 57,
   "metadata": {},
   "outputs": [
    {
     "data": {
      "text/plain": [
       "{0: 0.64, 1: 2.2857142857142856}"
      ]
     },
     "execution_count": 57,
     "metadata": {},
     "output_type": "execute_result"
    }
   ],
   "source": [
    "class_weights = compute_class_weight('balanced', classes=np.unique(y_train), y=y_train)\n",
    "class_weights_dict = dict(enumerate(class_weights))\n",
    "class_weights_dict"
   ]
  },
  {
   "cell_type": "markdown",
   "metadata": {},
   "source": [
    "# 4. Model Training"
   ]
  },
  {
   "cell_type": "markdown",
   "metadata": {},
   "source": [
    "Define plot functions"
   ]
  },
  {
   "cell_type": "code",
   "execution_count": 58,
   "metadata": {},
   "outputs": [],
   "source": [
    "def plot_acc(hist):\n",
    "    \"\"\"\n",
    "    Plot a line graph comparing the training and validation accuracy\n",
    "    \"\"\"\n",
    "    plt.plot(hist.history['accuracy'])\n",
    "    plt.plot(hist.history['val_accuracy'])\n",
    "    plt.title('model accuracy')\n",
    "    plt.ylabel('accuracy')\n",
    "    plt.xlabel('epoch')\n",
    "    plt.legend(['train', 'val'], loc='lower right')\n",
    "    plt.show()"
   ]
  },
  {
   "cell_type": "code",
   "execution_count": 59,
   "metadata": {},
   "outputs": [],
   "source": [
    "def plot_loss(hist):\n",
    "    \"\"\"\n",
    "    Plot a line graph comparing the training and validation loss\n",
    "    \"\"\"\n",
    "    plt.plot(hist.history['loss'])\n",
    "    plt.plot(hist.history['val_loss'])\n",
    "    plt.title('model loss')\n",
    "    plt.ylabel('loss')\n",
    "    plt.xlabel('epoch')\n",
    "    plt.legend(['train', 'val'], loc='upper left')\n",
    "    plt.show()"
   ]
  },
  {
   "cell_type": "markdown",
   "metadata": {},
   "source": [
    "## A. Base Model"
   ]
  },
  {
   "cell_type": "markdown",
   "metadata": {},
   "source": [
    "As this will be our first model, I will not make the model too complicated with too many layers"
   ]
  },
  {
   "cell_type": "code",
   "execution_count": 48,
   "metadata": {},
   "outputs": [
    {
     "name": "stdout",
     "output_type": "stream",
     "text": [
      "Model: \"sequential\"\n",
      "_________________________________________________________________\n",
      " Layer (type)                Output Shape              Param #   \n",
      "=================================================================\n",
      " embedding (Embedding)       (None, 22, 100)           81300     \n",
      "                                                                 \n",
      " conv1d (Conv1D)             (None, 18, 64)            32064     \n",
      "                                                                 \n",
      " lstm (LSTM)                 (None, 18, 64)            33024     \n",
      "                                                                 \n",
      " lstm_1 (LSTM)               (None, 64)                33024     \n",
      "                                                                 \n",
      " dense (Dense)               (None, 32)                2080      \n",
      "                                                                 \n",
      " dense_1 (Dense)             (None, 1)                 33        \n",
      "                                                                 \n",
      "=================================================================\n",
      "Total params: 181,525\n",
      "Trainable params: 181,525\n",
      "Non-trainable params: 0\n",
      "_________________________________________________________________\n"
     ]
    }
   ],
   "source": [
    "model1 = Sequential([\n",
    "    Embedding(vocab_size, 100, input_length=tokenised_reviews.shape[1]),\n",
    "\n",
    "    Conv1D(64, kernel_size=5, activation='relu'),\n",
    "\n",
    "    LSTM(64, return_sequences=True),\n",
    "\n",
    "    LSTM(64),\n",
    "\n",
    "    Dense(32, activation='relu'),\n",
    "\n",
    "    Dense(1, activation='sigmoid')\n",
    "])\n",
    "\n",
    "model1.compile(loss='binary_crossentropy', optimizer='adam', metrics=['accuracy'])\n",
    "\n",
    "model1.summary()"
   ]
  },
  {
   "cell_type": "code",
   "execution_count": 49,
   "metadata": {},
   "outputs": [
    {
     "name": "stdout",
     "output_type": "stream",
     "text": [
      "Epoch 1/30\n",
      "28/28 [==============================] - 3s 29ms/step - loss: 0.6913 - accuracy: 0.6742 - val_loss: 0.6939 - val_accuracy: 0.4526\n",
      "Epoch 2/30\n",
      "28/28 [==============================] - 0s 9ms/step - loss: 0.6026 - accuracy: 0.6112 - val_loss: 0.6675 - val_accuracy: 0.5368\n",
      "Epoch 3/30\n",
      "28/28 [==============================] - 0s 8ms/step - loss: 0.4077 - accuracy: 0.7865 - val_loss: 0.8552 - val_accuracy: 0.6842\n",
      "Epoch 4/30\n",
      "28/28 [==============================] - 0s 8ms/step - loss: 0.3466 - accuracy: 0.8225 - val_loss: 0.4597 - val_accuracy: 0.7684\n",
      "Epoch 5/30\n",
      "28/28 [==============================] - 0s 8ms/step - loss: 0.1575 - accuracy: 0.9461 - val_loss: 0.5477 - val_accuracy: 0.8105\n",
      "Epoch 6/30\n",
      "28/28 [==============================] - 0s 9ms/step - loss: 0.0739 - accuracy: 0.9775 - val_loss: 0.3644 - val_accuracy: 0.9053\n",
      "Epoch 7/30\n",
      "28/28 [==============================] - 0s 8ms/step - loss: 0.0669 - accuracy: 0.9865 - val_loss: 0.5718 - val_accuracy: 0.8421\n",
      "Epoch 8/30\n",
      "28/28 [==============================] - 0s 8ms/step - loss: 0.0400 - accuracy: 0.9888 - val_loss: 0.4107 - val_accuracy: 0.8947\n",
      "Epoch 9/30\n",
      "28/28 [==============================] - 0s 9ms/step - loss: 0.0206 - accuracy: 0.9955 - val_loss: 0.5184 - val_accuracy: 0.8947\n",
      "Epoch 10/30\n",
      "28/28 [==============================] - 0s 9ms/step - loss: 0.0172 - accuracy: 0.9955 - val_loss: 0.5254 - val_accuracy: 0.8842\n",
      "Epoch 11/30\n",
      "28/28 [==============================] - 0s 8ms/step - loss: 0.0200 - accuracy: 0.9933 - val_loss: 0.5143 - val_accuracy: 0.8842\n",
      "Epoch 12/30\n",
      "28/28 [==============================] - 0s 8ms/step - loss: 0.0172 - accuracy: 0.9955 - val_loss: 0.6049 - val_accuracy: 0.8737\n",
      "Epoch 13/30\n",
      "28/28 [==============================] - 0s 8ms/step - loss: 0.0147 - accuracy: 0.9955 - val_loss: 0.5374 - val_accuracy: 0.8842\n",
      "Epoch 14/30\n",
      "28/28 [==============================] - 0s 8ms/step - loss: 0.0138 - accuracy: 0.9955 - val_loss: 0.5367 - val_accuracy: 0.8842\n",
      "Epoch 15/30\n",
      "28/28 [==============================] - 0s 9ms/step - loss: 0.0123 - accuracy: 0.9955 - val_loss: 0.6086 - val_accuracy: 0.8842\n",
      "Epoch 16/30\n",
      "28/28 [==============================] - 0s 9ms/step - loss: 0.0115 - accuracy: 0.9978 - val_loss: 0.6601 - val_accuracy: 0.8842\n",
      "Epoch 17/30\n",
      "28/28 [==============================] - 0s 10ms/step - loss: 0.0101 - accuracy: 0.9978 - val_loss: 0.6701 - val_accuracy: 0.8842\n",
      "Epoch 18/30\n",
      "28/28 [==============================] - 0s 10ms/step - loss: 0.0103 - accuracy: 0.9978 - val_loss: 0.6685 - val_accuracy: 0.8842\n",
      "Epoch 19/30\n",
      "28/28 [==============================] - 0s 8ms/step - loss: 0.0102 - accuracy: 0.9978 - val_loss: 0.6855 - val_accuracy: 0.8842\n",
      "Epoch 20/30\n",
      "28/28 [==============================] - 0s 8ms/step - loss: 0.0101 - accuracy: 0.9978 - val_loss: 0.6761 - val_accuracy: 0.8842\n",
      "Epoch 21/30\n",
      "28/28 [==============================] - 0s 8ms/step - loss: 0.0103 - accuracy: 0.9978 - val_loss: 0.6972 - val_accuracy: 0.8842\n",
      "Epoch 22/30\n",
      "28/28 [==============================] - 0s 8ms/step - loss: 0.0105 - accuracy: 0.9978 - val_loss: 0.6776 - val_accuracy: 0.8842\n",
      "Epoch 23/30\n",
      "28/28 [==============================] - 0s 9ms/step - loss: 0.0100 - accuracy: 0.9978 - val_loss: 0.6811 - val_accuracy: 0.8842\n",
      "Epoch 24/30\n",
      "28/28 [==============================] - 0s 8ms/step - loss: 0.0101 - accuracy: 0.9978 - val_loss: 0.6837 - val_accuracy: 0.8842\n",
      "Epoch 25/30\n",
      "28/28 [==============================] - 0s 8ms/step - loss: 0.0100 - accuracy: 0.9978 - val_loss: 0.6791 - val_accuracy: 0.8842\n",
      "Epoch 26/30\n",
      "28/28 [==============================] - 0s 8ms/step - loss: 0.0099 - accuracy: 0.9978 - val_loss: 0.6389 - val_accuracy: 0.8842\n",
      "Epoch 27/30\n",
      "28/28 [==============================] - 0s 8ms/step - loss: 0.0099 - accuracy: 0.9978 - val_loss: 0.6464 - val_accuracy: 0.8842\n",
      "Epoch 28/30\n",
      "28/28 [==============================] - 0s 8ms/step - loss: 0.0100 - accuracy: 0.9978 - val_loss: 0.6193 - val_accuracy: 0.8842\n",
      "Epoch 29/30\n",
      "28/28 [==============================] - 0s 8ms/step - loss: 0.0095 - accuracy: 0.9978 - val_loss: 0.6298 - val_accuracy: 0.8947\n",
      "Epoch 30/30\n",
      "28/28 [==============================] - 0s 8ms/step - loss: 0.0096 - accuracy: 0.9978 - val_loss: 0.6480 - val_accuracy: 0.8947\n"
     ]
    }
   ],
   "source": [
    "history1 = model1.fit(\n",
    "    X_train,\n",
    "    y_train,\n",
    "    epochs=30,\n",
    "    batch_size=16,\n",
    "    validation_data=(X_val, y_val), \n",
    "    verbose=1,\n",
    "    class_weight=class_weights_dict\n",
    ")"
   ]
  },
  {
   "cell_type": "code",
   "execution_count": 50,
   "metadata": {},
   "outputs": [
    {
     "data": {
      "image/png": "[encoded data removed]",
      "text/plain": [
       "<Figure size 640x480 with 1 Axes>"
      ]
     },
     "metadata": {},
     "output_type": "display_data"
    }
   ],
   "source": [
    "plot_acc(history1)"
   ]
  },
  {
   "cell_type": "code",
   "execution_count": 51,
   "metadata": {},
   "outputs": [
    {
     "data": {
      "image/png": "[encoded data removed]",
      "text/plain": [
       "<Figure size 640x480 with 1 Axes>"
      ]
     },
     "metadata": {},
     "output_type": "display_data"
    }
   ],
   "source": [
    "plot_loss(history1)"
   ]
  },
  {
   "cell_type": "markdown",
   "metadata": {},
   "source": [
    "Although val accuracy is high and stays constant at around 0.9, the val loss is high and is increasing. We will try to add more layers and lower optimizer learning rate to see if it improves the model's performance"
   ]
  },
  {
   "cell_type": "markdown",
   "metadata": {},
   "source": [
    "## B. Add More Layers and Change Optimizer Learning Rate"
   ]
  },
  {
   "cell_type": "code",
   "execution_count": 66,
   "metadata": {},
   "outputs": [
    {
     "name": "stdout",
     "output_type": "stream",
     "text": [
      "Model: \"sequential\"\n",
      "_________________________________________________________________\n",
      " Layer (type)                Output Shape              Param #   \n",
      "=================================================================\n",
      " embedding (Embedding)       (None, 22, 100)           81500     \n",
      "                                                                 \n",
      " bidirectional (Bidirectiona  (None, 22, 128)          84480     \n",
      " l)                                                              \n",
      "                                                                 \n",
      " dropout (Dropout)           (None, 22, 128)           0         \n",
      "                                                                 \n",
      " bidirectional_1 (Bidirectio  (None, 128)              98816     \n",
      " nal)                                                            \n",
      "                                                                 \n",
      " dropout_1 (Dropout)         (None, 128)               0         \n",
      "                                                                 \n",
      " dense (Dense)               (None, 32)                4128      \n",
      "                                                                 \n",
      " dropout_2 (Dropout)         (None, 32)                0         \n",
      "                                                                 \n",
      " dense_1 (Dense)             (None, 1)                 33        \n",
      "                                                                 \n",
      "=================================================================\n",
      "Total params: 268,957\n",
      "Trainable params: 268,957\n",
      "Non-trainable params: 0\n",
      "_________________________________________________________________\n"
     ]
    }
   ],
   "source": [
    "model2 = Sequential([\n",
    "    Embedding(vocab_size, 100, input_length=tokenised_reviews.shape[1]),\n",
    "\n",
    "    Bidirectional(LSTM(64, return_sequences=True)),\n",
    "    Dropout(0.4),\n",
    "\n",
    "    Bidirectional(LSTM(64)),\n",
    "    Dropout(0.4),\n",
    "\n",
    "    Dense(32, activation='relu', kernel_regularizer=l2(0.01)),\n",
    "    Dropout(0.4),\n",
    "\n",
    "    Dense(1, activation='sigmoid')\n",
    "])\n",
    "\n",
    "model2.compile(loss='binary_crossentropy', optimizer=Adam(0.0001), metrics=['accuracy'])\n",
    "\n",
    "model2.summary()"
   ]
  },
  {
   "cell_type": "code",
   "execution_count": 67,
   "metadata": {},
   "outputs": [
    {
     "name": "stdout",
     "output_type": "stream",
     "text": [
      "Epoch 1/60\n",
      "28/28 [==============================] - 4s 43ms/step - loss: 1.1592 - accuracy: 0.7433 - val_loss: 1.1258 - val_accuracy: 0.7812\n",
      "Epoch 2/60\n",
      "28/28 [==============================] - 0s 9ms/step - loss: 1.0996 - accuracy: 0.7812 - val_loss: 1.0519 - val_accuracy: 0.7812\n",
      "Epoch 3/60\n",
      "28/28 [==============================] - 0s 9ms/step - loss: 1.0328 - accuracy: 0.7812 - val_loss: 0.9910 - val_accuracy: 0.7812\n",
      "Epoch 4/60\n",
      "28/28 [==============================] - 0s 9ms/step - loss: 0.9845 - accuracy: 0.7812 - val_loss: 0.9695 - val_accuracy: 0.7812\n",
      "Epoch 5/60\n",
      "28/28 [==============================] - 0s 9ms/step - loss: 0.9744 - accuracy: 0.7812 - val_loss: 0.9501 - val_accuracy: 0.7812\n",
      "Epoch 6/60\n",
      "28/28 [==============================] - 0s 9ms/step - loss: 0.9341 - accuracy: 0.7812 - val_loss: 0.9300 - val_accuracy: 0.7812\n",
      "Epoch 7/60\n",
      "28/28 [==============================] - 0s 11ms/step - loss: 0.9212 - accuracy: 0.7812 - val_loss: 0.9100 - val_accuracy: 0.7812\n",
      "Epoch 8/60\n",
      "28/28 [==============================] - 0s 9ms/step - loss: 0.8892 - accuracy: 0.7812 - val_loss: 0.8881 - val_accuracy: 0.7812\n",
      "Epoch 9/60\n",
      "28/28 [==============================] - 0s 9ms/step - loss: 0.8704 - accuracy: 0.7812 - val_loss: 0.8577 - val_accuracy: 0.7812\n",
      "Epoch 10/60\n",
      "28/28 [==============================] - 0s 9ms/step - loss: 0.8228 - accuracy: 0.7812 - val_loss: 0.8097 - val_accuracy: 0.7812\n",
      "Epoch 11/60\n",
      "28/28 [==============================] - 0s 9ms/step - loss: 0.7303 - accuracy: 0.7879 - val_loss: 0.7624 - val_accuracy: 0.7812\n",
      "Epoch 12/60\n",
      "28/28 [==============================] - 0s 9ms/step - loss: 0.6262 - accuracy: 0.8549 - val_loss: 0.6863 - val_accuracy: 0.8542\n",
      "Epoch 13/60\n",
      "28/28 [==============================] - 0s 9ms/step - loss: 0.5238 - accuracy: 0.9263 - val_loss: 0.6682 - val_accuracy: 0.8542\n",
      "Epoch 14/60\n",
      "28/28 [==============================] - 0s 9ms/step - loss: 0.4755 - accuracy: 0.9598 - val_loss: 0.6181 - val_accuracy: 0.8646\n",
      "Epoch 15/60\n",
      "28/28 [==============================] - 0s 9ms/step - loss: 0.4565 - accuracy: 0.9621 - val_loss: 0.5716 - val_accuracy: 0.8646\n",
      "Epoch 16/60\n",
      "28/28 [==============================] - 0s 10ms/step - loss: 0.4112 - accuracy: 0.9710 - val_loss: 0.5409 - val_accuracy: 0.8854\n",
      "Epoch 17/60\n",
      "28/28 [==============================] - 0s 9ms/step - loss: 0.3758 - accuracy: 0.9777 - val_loss: 0.5635 - val_accuracy: 0.9271\n",
      "Epoch 18/60\n",
      "28/28 [==============================] - 0s 9ms/step - loss: 0.3647 - accuracy: 0.9754 - val_loss: 0.5388 - val_accuracy: 0.8854\n",
      "Epoch 19/60\n",
      "28/28 [==============================] - 0s 9ms/step - loss: 0.3427 - accuracy: 0.9777 - val_loss: 0.4897 - val_accuracy: 0.9062\n",
      "Epoch 20/60\n",
      "28/28 [==============================] - 0s 12ms/step - loss: 0.3186 - accuracy: 0.9888 - val_loss: 0.4774 - val_accuracy: 0.9167\n",
      "Epoch 21/60\n",
      "28/28 [==============================] - 0s 9ms/step - loss: 0.2976 - accuracy: 0.9888 - val_loss: 0.4720 - val_accuracy: 0.9271\n",
      "Epoch 22/60\n",
      "28/28 [==============================] - 0s 9ms/step - loss: 0.2834 - accuracy: 0.9911 - val_loss: 0.4591 - val_accuracy: 0.9375\n",
      "Epoch 23/60\n",
      "28/28 [==============================] - 0s 9ms/step - loss: 0.2607 - accuracy: 0.9933 - val_loss: 0.4618 - val_accuracy: 0.9375\n",
      "Epoch 24/60\n",
      "28/28 [==============================] - 0s 9ms/step - loss: 0.2496 - accuracy: 0.9978 - val_loss: 0.4599 - val_accuracy: 0.9479\n",
      "Epoch 25/60\n",
      "28/28 [==============================] - 0s 9ms/step - loss: 0.2388 - accuracy: 0.9978 - val_loss: 0.4647 - val_accuracy: 0.9479\n",
      "Epoch 26/60\n",
      "28/28 [==============================] - 0s 9ms/step - loss: 0.2373 - accuracy: 0.9955 - val_loss: 0.5515 - val_accuracy: 0.9062\n",
      "Epoch 27/60\n",
      "28/28 [==============================] - 0s 9ms/step - loss: 0.2497 - accuracy: 0.9888 - val_loss: 0.5062 - val_accuracy: 0.9375\n",
      "Epoch 28/60\n",
      "28/28 [==============================] - 0s 9ms/step - loss: 0.2348 - accuracy: 0.9955 - val_loss: 0.4470 - val_accuracy: 0.9479\n",
      "Epoch 29/60\n",
      "28/28 [==============================] - 0s 9ms/step - loss: 0.2080 - accuracy: 0.9978 - val_loss: 0.4473 - val_accuracy: 0.9479\n",
      "Epoch 30/60\n",
      "28/28 [==============================] - 0s 10ms/step - loss: 0.2035 - accuracy: 0.9978 - val_loss: 0.4490 - val_accuracy: 0.9479\n",
      "Epoch 31/60\n",
      "28/28 [==============================] - 0s 9ms/step - loss: 0.1902 - accuracy: 0.9978 - val_loss: 0.4516 - val_accuracy: 0.9375\n",
      "Epoch 32/60\n",
      "28/28 [==============================] - 0s 9ms/step - loss: 0.1894 - accuracy: 0.9978 - val_loss: 0.4603 - val_accuracy: 0.9375\n",
      "Epoch 33/60\n",
      "28/28 [==============================] - 0s 9ms/step - loss: 0.1747 - accuracy: 0.9978 - val_loss: 0.4621 - val_accuracy: 0.9375\n",
      "Epoch 34/60\n",
      "28/28 [==============================] - 0s 10ms/step - loss: 0.1784 - accuracy: 0.9978 - val_loss: 0.4597 - val_accuracy: 0.9375\n",
      "Epoch 35/60\n",
      "28/28 [==============================] - 0s 9ms/step - loss: 0.1680 - accuracy: 0.9978 - val_loss: 0.4562 - val_accuracy: 0.9375\n",
      "Epoch 36/60\n",
      "28/28 [==============================] - 0s 9ms/step - loss: 0.1647 - accuracy: 0.9978 - val_loss: 0.4544 - val_accuracy: 0.9375\n",
      "Epoch 37/60\n",
      "28/28 [==============================] - 0s 9ms/step - loss: 0.1632 - accuracy: 0.9978 - val_loss: 0.4541 - val_accuracy: 0.9375\n",
      "Epoch 38/60\n",
      "28/28 [==============================] - 0s 9ms/step - loss: 0.1517 - accuracy: 0.9978 - val_loss: 0.4570 - val_accuracy: 0.9375\n",
      "Epoch 39/60\n",
      "28/28 [==============================] - 0s 9ms/step - loss: 0.1439 - accuracy: 0.9978 - val_loss: 0.4519 - val_accuracy: 0.9375\n",
      "Epoch 40/60\n",
      "28/28 [==============================] - 0s 9ms/step - loss: 0.1426 - accuracy: 0.9978 - val_loss: 0.4520 - val_accuracy: 0.9375\n",
      "Epoch 41/60\n",
      "28/28 [==============================] - 0s 9ms/step - loss: 0.1418 - accuracy: 0.9978 - val_loss: 0.4504 - val_accuracy: 0.9375\n",
      "Epoch 42/60\n",
      "28/28 [==============================] - 0s 9ms/step - loss: 0.1360 - accuracy: 0.9978 - val_loss: 0.4450 - val_accuracy: 0.9375\n",
      "Epoch 43/60\n",
      "28/28 [==============================] - 0s 9ms/step - loss: 0.1284 - accuracy: 0.9978 - val_loss: 0.4423 - val_accuracy: 0.9375\n",
      "Epoch 44/60\n",
      "28/28 [==============================] - 0s 9ms/step - loss: 0.1276 - accuracy: 0.9978 - val_loss: 0.4407 - val_accuracy: 0.9375\n",
      "Epoch 45/60\n",
      "28/28 [==============================] - 0s 9ms/step - loss: 0.1256 - accuracy: 0.9978 - val_loss: 0.4432 - val_accuracy: 0.9375\n",
      "Epoch 46/60\n",
      "28/28 [==============================] - 0s 9ms/step - loss: 0.1233 - accuracy: 0.9978 - val_loss: 0.4331 - val_accuracy: 0.9375\n",
      "Epoch 47/60\n",
      "28/28 [==============================] - 0s 9ms/step - loss: 0.1151 - accuracy: 0.9978 - val_loss: 0.4239 - val_accuracy: 0.9479\n",
      "Epoch 48/60\n",
      "28/28 [==============================] - 0s 9ms/step - loss: 0.1111 - accuracy: 0.9978 - val_loss: 0.4219 - val_accuracy: 0.9479\n",
      "Epoch 49/60\n",
      "28/28 [==============================] - 0s 9ms/step - loss: 0.1091 - accuracy: 0.9978 - val_loss: 0.4195 - val_accuracy: 0.9479\n",
      "Epoch 50/60\n",
      "28/28 [==============================] - 0s 9ms/step - loss: 0.1103 - accuracy: 0.9978 - val_loss: 0.4158 - val_accuracy: 0.9479\n",
      "Epoch 51/60\n",
      "28/28 [==============================] - 0s 9ms/step - loss: 0.0985 - accuracy: 0.9978 - val_loss: 0.4118 - val_accuracy: 0.9479\n",
      "Epoch 52/60\n",
      "28/28 [==============================] - 0s 9ms/step - loss: 0.0982 - accuracy: 0.9978 - val_loss: 0.4101 - val_accuracy: 0.9479\n",
      "Epoch 53/60\n",
      "28/28 [==============================] - 0s 9ms/step - loss: 0.0946 - accuracy: 0.9978 - val_loss: 0.4062 - val_accuracy: 0.9479\n",
      "Epoch 54/60\n",
      "28/28 [==============================] - 0s 9ms/step - loss: 0.0878 - accuracy: 0.9978 - val_loss: 0.4049 - val_accuracy: 0.9479\n",
      "Epoch 55/60\n",
      "28/28 [==============================] - 0s 9ms/step - loss: 0.0947 - accuracy: 0.9978 - val_loss: 0.4027 - val_accuracy: 0.9479\n",
      "Epoch 56/60\n",
      "28/28 [==============================] - 0s 9ms/step - loss: 0.0873 - accuracy: 0.9978 - val_loss: 0.4007 - val_accuracy: 0.9479\n",
      "Epoch 57/60\n",
      "28/28 [==============================] - 0s 12ms/step - loss: 0.0890 - accuracy: 0.9978 - val_loss: 0.3970 - val_accuracy: 0.9479\n",
      "Epoch 58/60\n",
      "28/28 [==============================] - 0s 9ms/step - loss: 0.0865 - accuracy: 0.9978 - val_loss: 0.3935 - val_accuracy: 0.9479\n",
      "Epoch 59/60\n",
      "28/28 [==============================] - 0s 9ms/step - loss: 0.0779 - accuracy: 0.9978 - val_loss: 0.3914 - val_accuracy: 0.9479\n",
      "Epoch 60/60\n",
      "28/28 [==============================] - 0s 9ms/step - loss: 0.0737 - accuracy: 0.9978 - val_loss: 0.3882 - val_accuracy: 0.9479\n"
     ]
    }
   ],
   "source": [
    "history2 = model2.fit(\n",
    "    X_train,\n",
    "    y_train,\n",
    "    epochs=60,\n",
    "    batch_size=16,\n",
    "    validation_data=(X_val, y_val),\n",
    "    verbose=1\n",
    ")"
   ]
  },
  {
   "cell_type": "code",
   "execution_count": 68,
   "metadata": {},
   "outputs": [
    {
     "data": {
      "image/png": "[encoded data removed]",
      "text/plain": [
       "<Figure size 640x480 with 1 Axes>"
      ]
     },
     "metadata": {},
     "output_type": "display_data"
    }
   ],
   "source": [
    "plot_acc(history2)"
   ]
  },
  {
   "cell_type": "code",
   "execution_count": 69,
   "metadata": {},
   "outputs": [
    {
     "data": {
      "image/png": "[encoded data removed]",
      "text/plain": [
       "<Figure size 640x480 with 1 Axes>"
      ]
     },
     "metadata": {},
     "output_type": "display_data"
    }
   ],
   "source": [
    "plot_loss(history2)"
   ]
  },
  {
   "cell_type": "markdown",
   "metadata": {},
   "source": [
    "Although the val accuracy fluctuates, it starts to smoothen out at the later epochs. The val loss also decreases as the epochs increase. As the model's performance is good, we shall choose this model as our final model"
   ]
  },
  {
   "cell_type": "code",
   "execution_count": 70,
   "metadata": {},
   "outputs": [],
   "source": [
    "model2.save('model2.h5')\n",
    "model2.save_weights('model2_weights.h5')"
   ]
  },
  {
   "cell_type": "markdown",
   "metadata": {},
   "source": [
    "# 5. Model Evaluation"
   ]
  },
  {
   "cell_type": "code",
   "execution_count": 71,
   "metadata": {},
   "outputs": [],
   "source": [
    "loaded_model = load_model('model2.h5')"
   ]
  },
  {
   "cell_type": "code",
   "execution_count": 72,
   "metadata": {},
   "outputs": [
    {
     "name": "stdout",
     "output_type": "stream",
     "text": [
      "Model: \"sequential\"\n",
      "_________________________________________________________________\n",
      " Layer (type)                Output Shape              Param #   \n",
      "=================================================================\n",
      " embedding (Embedding)       (None, 22, 100)           81500     \n",
      "                                                                 \n",
      " bidirectional (Bidirectiona  (None, 22, 128)          84480     \n",
      " l)                                                              \n",
      "                                                                 \n",
      " dropout (Dropout)           (None, 22, 128)           0         \n",
      "                                                                 \n",
      " bidirectional_1 (Bidirectio  (None, 128)              98816     \n",
      " nal)                                                            \n",
      "                                                                 \n",
      " dropout_1 (Dropout)         (None, 128)               0         \n",
      "                                                                 \n",
      " dense (Dense)               (None, 32)                4128      \n",
      "                                                                 \n",
      " dropout_2 (Dropout)         (None, 32)                0         \n",
      "                                                                 \n",
      " dense_1 (Dense)             (None, 1)                 33        \n",
      "                                                                 \n",
      "=================================================================\n",
      "Total params: 268,957\n",
      "Trainable params: 268,957\n",
      "Non-trainable params: 0\n",
      "_________________________________________________________________\n"
     ]
    }
   ],
   "source": [
    "loaded_model.summary()"
   ]
  },
  {
   "cell_type": "code",
   "execution_count": 73,
   "metadata": {},
   "outputs": [
    {
     "name": "stdout",
     "output_type": "stream",
     "text": [
      "3/3 [==============================] - 1s 5ms/step\n",
      "[[2.9203102e-03]\n",
      " [4.2089267e-04]\n",
      " [4.0640065e-04]\n",
      " [4.4557315e-04]\n",
      " [3.9945467e-04]\n",
      " [9.8771614e-01]\n",
      " [4.1795059e-04]\n",
      " [4.0693529e-04]\n",
      " [4.5562309e-04]\n",
      " [9.8877436e-01]\n",
      " [9.8880976e-01]\n",
      " [4.0622117e-04]\n",
      " [4.6009582e-04]\n",
      " [3.9685471e-04]\n",
      " [4.0853085e-04]\n",
      " [4.0676480e-04]\n",
      " [5.9639959e-04]\n",
      " [3.9545359e-04]\n",
      " [9.8894870e-01]\n",
      " [4.3445965e-04]\n",
      " [4.1883442e-04]\n",
      " [3.9655459e-04]\n",
      " [3.9688079e-04]\n",
      " [4.1716959e-04]\n",
      " [4.1851334e-04]\n",
      " [3.9659470e-04]\n",
      " [4.6292981e-04]\n",
      " [4.8679870e-04]\n",
      " [9.6076232e-01]\n",
      " [4.4980957e-04]\n",
      " [4.1464643e-04]\n",
      " [9.8501801e-01]\n",
      " [3.2477800e-03]\n",
      " [3.9267784e-04]\n",
      " [4.3163131e-04]\n",
      " [5.8577798e-04]\n",
      " [5.3593074e-04]\n",
      " [4.3284183e-04]\n",
      " [4.0409938e-04]\n",
      " [9.8549455e-01]\n",
      " [5.0405622e-04]\n",
      " [5.9984851e-04]\n",
      " [9.8374796e-01]\n",
      " [9.8818284e-01]\n",
      " [2.5717192e-03]\n",
      " [3.9487082e-04]\n",
      " [4.0913318e-04]\n",
      " [4.1718295e-04]\n",
      " [4.8656418e-04]\n",
      " [4.0590143e-04]\n",
      " [9.8843759e-01]\n",
      " [4.2087882e-04]\n",
      " [4.1842833e-04]\n",
      " [9.8091434e-04]\n",
      " [6.3679693e-04]\n",
      " [4.9237406e-04]\n",
      " [4.1615599e-04]\n",
      " [9.8866904e-01]\n",
      " [4.0601366e-04]\n",
      " [9.8737884e-01]\n",
      " [7.1126153e-04]\n",
      " [9.8174256e-01]\n",
      " [4.2880664e-04]\n",
      " [4.1456264e-04]\n",
      " [1.2553709e-03]\n",
      " [9.8898262e-01]\n",
      " [7.8588835e-04]\n",
      " [4.1021570e-04]\n",
      " [9.8840165e-01]\n",
      " [9.8821998e-01]\n",
      " [4.1574141e-04]\n",
      " [4.2090713e-04]\n",
      " [4.7083650e-04]\n",
      " [4.0120922e-04]\n",
      " [4.0970556e-04]\n",
      " [9.8902422e-01]\n",
      " [4.0953548e-04]\n",
      " [4.7449075e-04]\n",
      " [5.7857961e-04]\n",
      " [9.8710001e-01]\n",
      " [4.6841160e-04]\n",
      " [9.8885900e-01]\n",
      " [4.0092858e-04]\n",
      " [4.2286143e-04]\n",
      " [6.8393734e-04]\n",
      " [5.9903099e-04]\n",
      " [7.0619222e-04]\n",
      " [4.1815144e-04]\n",
      " [4.0006498e-04]\n",
      " [4.3357589e-04]\n",
      " [9.8858684e-01]\n",
      " [3.9006677e-04]\n",
      " [3.9772064e-04]\n",
      " [3.8940375e-04]\n",
      " [9.8655009e-01]\n",
      " [9.8879617e-01]]\n"
     ]
    }
   ],
   "source": [
    "y_pred = loaded_model.predict(X_test)\n",
    "print(y_pred)"
   ]
  },
  {
   "cell_type": "code",
   "execution_count": 74,
   "metadata": {},
   "outputs": [
    {
     "name": "stdout",
     "output_type": "stream",
     "text": [
      "3/3 [==============================] - 1s 5ms/step - loss: 0.7072 - accuracy: 0.8854\n"
     ]
    }
   ],
   "source": [
    "loss, accuracy = loaded_model.evaluate(X_test, y_test)"
   ]
  },
  {
   "cell_type": "code",
   "execution_count": 75,
   "metadata": {},
   "outputs": [
    {
     "name": "stdout",
     "output_type": "stream",
     "text": [
      "[[0]\n",
      " [0]\n",
      " [0]\n",
      " [0]\n",
      " [0]\n",
      " [1]\n",
      " [0]\n",
      " [0]\n",
      " [0]\n",
      " [1]\n",
      " [1]\n",
      " [0]\n",
      " [0]\n",
      " [0]\n",
      " [0]\n",
      " [0]\n",
      " [0]\n",
      " [0]\n",
      " [1]\n",
      " [0]\n",
      " [0]\n",
      " [0]\n",
      " [0]\n",
      " [0]\n",
      " [0]\n",
      " [0]\n",
      " [0]\n",
      " [0]\n",
      " [1]\n",
      " [0]\n",
      " [0]\n",
      " [1]\n",
      " [0]\n",
      " [0]\n",
      " [0]\n",
      " [0]\n",
      " [0]\n",
      " [0]\n",
      " [0]\n",
      " [1]\n",
      " [0]\n",
      " [0]\n",
      " [1]\n",
      " [1]\n",
      " [0]\n",
      " [0]\n",
      " [0]\n",
      " [0]\n",
      " [0]\n",
      " [0]\n",
      " [1]\n",
      " [0]\n",
      " [0]\n",
      " [0]\n",
      " [0]\n",
      " [0]\n",
      " [0]\n",
      " [1]\n",
      " [0]\n",
      " [1]\n",
      " [0]\n",
      " [1]\n",
      " [0]\n",
      " [0]\n",
      " [0]\n",
      " [1]\n",
      " [0]\n",
      " [0]\n",
      " [1]\n",
      " [1]\n",
      " [0]\n",
      " [0]\n",
      " [0]\n",
      " [0]\n",
      " [0]\n",
      " [1]\n",
      " [0]\n",
      " [0]\n",
      " [0]\n",
      " [1]\n",
      " [0]\n",
      " [1]\n",
      " [0]\n",
      " [0]\n",
      " [0]\n",
      " [0]\n",
      " [0]\n",
      " [0]\n",
      " [0]\n",
      " [0]\n",
      " [1]\n",
      " [0]\n",
      " [0]\n",
      " [0]\n",
      " [1]\n",
      " [1]]\n"
     ]
    }
   ],
   "source": [
    "y_pred_binary = (y_pred > 0.5).astype(int)\n",
    "print(y_pred_binary)"
   ]
  },
  {
   "cell_type": "code",
   "execution_count": 76,
   "metadata": {},
   "outputs": [
    {
     "data": {
      "image/png": "[encoded data removed]",
      "text/plain": [
       "<Figure size 1000x700 with 2 Axes>"
      ]
     },
     "metadata": {},
     "output_type": "display_data"
    }
   ],
   "source": [
    "cm = confusion_matrix(y_test, y_pred_binary)\n",
    "\n",
    "plt.figure(figsize=(10,7))\n",
    "sns.heatmap(cm, annot=True, fmt='d', cmap='Blues', xticklabels=['0', '1'], yticklabels=['0', '1'])  # fmt='d' formats to integers\n",
    "plt.xlabel('Predicted')\n",
    "plt.ylabel('Actual')\n",
    "plt.title(f'Confusion Matrix')\n",
    "plt.show()"
   ]
  },
  {
   "cell_type": "code",
   "execution_count": 79,
   "metadata": {},
   "outputs": [
    {
     "name": "stdout",
     "output_type": "stream",
     "text": [
      "              precision    recall  f1-score   support\n",
      "\n",
      "    Negative       0.93      0.92      0.93        75\n",
      "    Positive       0.73      0.76      0.74        21\n",
      "\n",
      "    accuracy                           0.89        96\n",
      "   macro avg       0.83      0.84      0.84        96\n",
      "weighted avg       0.89      0.89      0.89        96\n",
      "\n"
     ]
    }
   ],
   "source": [
    "print(classification_report(y_test, y_pred_binary, target_names=['Negative', 'Positive']))"
   ]
  },
  {
   "cell_type": "markdown",
   "metadata": {},
   "source": [
    "The model performs well overall, especially on the Negative class. That is due to having an imbalance in the classes (having more negatives). However, there is room for improvement in predicting the Positive class such as resampling. This could be due to class imbalance or the model not learning the Positive class features as effectively even with class weights."
   ]
  },
  {
   "cell_type": "code",
   "execution_count": 78,
   "metadata": {},
   "outputs": [
    {
     "data": {
      "image/png": "[encoded data removed]",
      "text/plain": [
       "<IPython.core.display.Image object>"
      ]
     },
     "execution_count": 78,
     "metadata": {},
     "output_type": "execute_result"
    }
   ],
   "source": [
    "plot_model(loaded_model, show_shapes=True, expand_nested=True, show_layer_activations=True, show_layer_names=True, to_file=\"model2.png\")"
   ]
  },
  {
   "cell_type": "code",
   "execution_count": null,
   "metadata": {},
   "outputs": [],
   "source": []
  }
 ],
 "metadata": {
  "kernelspec": {
   "display_name": "Python 3.8.19 ('gpu_env')",
   "language": "python",
   "name": "python3"
  },
  "language_info": {
   "codemirror_mode": {
    "name": "ipython",
    "version": 3
   },
   "file_extension": ".py",
   "mimetype": "text/x-python",
   "name": "python",
   "nbconvert_exporter": "python",
   "pygments_lexer": "ipython3",
   "version": "3.8.19"
  },
  "vscode": {
   "interpreter": {
    "hash": "5b460c8134041a9eb7f811dfdfca680bf522aea7d6535220209a5df6379dc02a"
   }
  }
 },
 "nbformat": 4,
 "nbformat_minor": 2
}
